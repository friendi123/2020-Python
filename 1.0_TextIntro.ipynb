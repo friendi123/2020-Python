{
 "cells": [
  {
   "cell_type": "markdown",
   "metadata": {},
   "source": [
    "# Text analysis I\n",
    "\n",
    "In this notebook, we will:\n",
    "\n",
    "- Calculate interrater reliability.\n",
    "- Export data for coding.\n",
    "- Import coded data.\n",
    "- Score text with built-in TextBlob sentiment."
   ]
  },
  {
   "cell_type": "markdown",
   "metadata": {},
   "source": []
  },
  {
   "cell_type": "code",
   "execution_count": 1,
   "metadata": {},
   "outputs": [],
   "source": [
    "import random\n",
    "\n",
    "import pandas as pd\n",
    "import numpy as np\n",
    "import nltk\n",
    "\n",
    "from textblob import TextBlob\n",
    "from sklearn.metrics import cohen_kappa_score\n",
    "from nltk import agreement"
   ]
  },
  {
   "cell_type": "markdown",
   "metadata": {},
   "source": [
    "## Interrater reliability"
   ]
  },
  {
   "cell_type": "code",
   "execution_count": 2,
   "metadata": {},
   "outputs": [
    {
     "data": {
      "text/html": [
       "<div>\n",
       "<style scoped>\n",
       "    .dataframe tbody tr th:only-of-type {\n",
       "        vertical-align: middle;\n",
       "    }\n",
       "\n",
       "    .dataframe tbody tr th {\n",
       "        vertical-align: top;\n",
       "    }\n",
       "\n",
       "    .dataframe thead th {\n",
       "        text-align: right;\n",
       "    }\n",
       "</style>\n",
       "<table border=\"1\" class=\"dataframe\">\n",
       "  <thead>\n",
       "    <tr style=\"text-align: right;\">\n",
       "      <th></th>\n",
       "      <th>true_scores</th>\n",
       "      <th>item</th>\n",
       "      <th>r1</th>\n",
       "      <th>r2</th>\n",
       "      <th>r3</th>\n",
       "    </tr>\n",
       "  </thead>\n",
       "  <tbody>\n",
       "    <tr>\n",
       "      <th>0</th>\n",
       "      <td>6</td>\n",
       "      <td>1</td>\n",
       "      <td>5</td>\n",
       "      <td>5</td>\n",
       "      <td>6</td>\n",
       "    </tr>\n",
       "    <tr>\n",
       "      <th>1</th>\n",
       "      <td>2</td>\n",
       "      <td>1</td>\n",
       "      <td>1</td>\n",
       "      <td>2</td>\n",
       "      <td>2</td>\n",
       "    </tr>\n",
       "    <tr>\n",
       "      <th>2</th>\n",
       "      <td>1</td>\n",
       "      <td>2</td>\n",
       "      <td>1</td>\n",
       "      <td>1</td>\n",
       "      <td>1</td>\n",
       "    </tr>\n",
       "    <tr>\n",
       "      <th>3</th>\n",
       "      <td>5</td>\n",
       "      <td>3</td>\n",
       "      <td>5</td>\n",
       "      <td>5</td>\n",
       "      <td>4</td>\n",
       "    </tr>\n",
       "    <tr>\n",
       "      <th>4</th>\n",
       "      <td>3</td>\n",
       "      <td>4</td>\n",
       "      <td>2</td>\n",
       "      <td>3</td>\n",
       "      <td>3</td>\n",
       "    </tr>\n",
       "  </tbody>\n",
       "</table>\n",
       "</div>"
      ],
      "text/plain": [
       "   true_scores  item  r1  r2  r3\n",
       "0            6     1   5   5   6\n",
       "1            2     1   1   2   2\n",
       "2            1     2   1   1   1\n",
       "3            5     3   5   5   4\n",
       "4            3     4   2   3   3"
      ]
     },
     "execution_count": 2,
     "metadata": {},
     "output_type": "execute_result"
    }
   ],
   "source": [
    "# Generate some data.\n",
    "true_scores = [random.randrange(1, 7) for i in range(200)]\n",
    "r1_diff = [random.randrange(-1, 1) for i in range(200)]\n",
    "r2_diff = [random.randrange(-1, 1) for i in range(200)]\n",
    "r3_diff = [random.randrange(-1, 1) for i in range(200)]\n",
    "\n",
    "ratings = pd.DataFrame(true_scores, columns=['true_scores'])\n",
    "\n",
    "ratings['item'] = range(200)\n",
    "ratings['r1'] = ratings['true_scores'] + r1_diff\n",
    "ratings['r2'] = ratings['true_scores'] + r2_diff\n",
    "ratings['r3'] = ratings['true_scores'] + r3_diff\n",
    "ratings= ratings.clip(1, 7)\n",
    "\n",
    "ratings.head()"
   ]
  },
  {
   "cell_type": "code",
   "execution_count": 3,
   "metadata": {},
   "outputs": [
    {
     "name": "stdout",
     "output_type": "stream",
     "text": [
      "0.54233409610984\n",
      "0.4605694670058542\n",
      "0.44795436422744284\n"
     ]
    }
   ],
   "source": [
    "# For two raters\n",
    "print(cohen_kappa_score(ratings['r1'], ratings['r2']))\n",
    "print(cohen_kappa_score(ratings['r2'], ratings['r3']))\n",
    "print(cohen_kappa_score(ratings['r1'], ratings['r3']))"
   ]
  },
  {
   "cell_type": "markdown",
   "metadata": {},
   "source": [
    "## Tokenization\n",
    "### Tokenization is the first step in text analytics. The process of breaking down a text paragraph into smaller segments such as words or sentence is called Tokenization."
   ]
  },
  {
   "cell_type": "code",
   "execution_count": 4,
   "metadata": {},
   "outputs": [
    {
     "name": "stdout",
     "output_type": "stream",
     "text": [
      "[\"Marketing academics are keenly aware of the seismic shifts in today's marketing environmentcaused by digital (dis)intermediation.\", 'In this article, we discuss four types of digital (dis)intermediation, and how they affect branding activities of incumbents and new firms.', 'First, we discuss\\ndigital transaction intermediation, a development that is closely tied to the rise of ecommerce retailers.', 'A second type is digital transaction disintermediation associated with the rise of\\necommerce D2C models.', 'These first two types of digital (dis) intermediation are primarily topdown processes, where firms are developing new ways to sell their brands to consumers.', \"The\\nnext two types of digital (dis) intermediation are of the bottom-up kind — the consumer is in the driver's seat.\", 'Digital marketing intermediation and the rise of D2C brand-building models is\\npowered by crowdsourcing.', 'A final development is digital marketing disintermediation, which is closely tied to the rise of C2C models.', 'We present issues in need of future research for each\\ntype of digital (dis)intermediation.', 'We conclude with an appeal that marketing takes the lead in developing overarching, indigenous theories of digital (dis)intermediation to make sense of\\nthe rapid changes in the marketplace.']\n"
     ]
    },
    {
     "name": "stderr",
     "output_type": "stream",
     "text": [
      "[nltk_data] Downloading package punkt to\n",
      "[nltk_data]     C:\\Users\\xiada\\AppData\\Roaming\\nltk_data...\n",
      "[nltk_data]   Package punkt is already up-to-date!\n"
     ]
    }
   ],
   "source": [
    "from nltk.tokenize import sent_tokenize\n",
    "nltk.download('punkt')\n",
    "\n",
    "# Source: The abstract of this article: Gielens, K., & Steenkamp, J. B. E. (2019). Branding in the era of digital (dis) intermediation. International Journal of Research in Marketing, 36(3), 367-384.\n",
    "\n",
    "text=\"\"\"Marketing academics are keenly aware of the seismic shifts in today's marketing environmentcaused by digital (dis)intermediation. In this article, we discuss four types of digital (dis)intermediation, and how they affect branding activities of incumbents and new firms. First, we discuss\n",
    "digital transaction intermediation, a development that is closely tied to the rise of ecommerce retailers. A second type is digital transaction disintermediation associated with the rise of\n",
    "ecommerce D2C models. These first two types of digital (dis) intermediation are primarily topdown processes, where firms are developing new ways to sell their brands to consumers. The\n",
    "next two types of digital (dis) intermediation are of the bottom-up kind — the consumer is in the driver's seat. Digital marketing intermediation and the rise of D2C brand-building models is\n",
    "powered by crowdsourcing. A final development is digital marketing disintermediation, which is closely tied to the rise of C2C models. We present issues in need of future research for each\n",
    "type of digital (dis)intermediation. We conclude with an appeal that marketing takes the lead in developing overarching, indigenous theories of digital (dis)intermediation to make sense of\n",
    "the rapid changes in the marketplace.\"\"\"\n",
    "\n",
    "tokenized_text = sent_tokenize(text)\n",
    "\n",
    "print(tokenized_text)"
   ]
  },
  {
   "cell_type": "code",
   "execution_count": 5,
   "metadata": {},
   "outputs": [
    {
     "name": "stdout",
     "output_type": "stream",
     "text": [
      "['Marketing', 'academics', 'are', 'keenly', 'aware', 'of', 'the', 'seismic', 'shifts', 'in', 'today', \"'s\", 'marketing', 'environmentcaused', 'by', 'digital', '(', 'dis', ')', 'intermediation', '.', 'In', 'this', 'article', ',', 'we', 'discuss', 'four', 'types', 'of', 'digital', '(', 'dis', ')', 'intermediation', ',', 'and', 'how', 'they', 'affect', 'branding', 'activities', 'of', 'incumbents', 'and', 'new', 'firms', '.', 'First', ',', 'we', 'discuss', 'digital', 'transaction', 'intermediation', ',', 'a', 'development', 'that', 'is', 'closely', 'tied', 'to', 'the', 'rise', 'of', 'ecommerce', 'retailers', '.', 'A', 'second', 'type', 'is', 'digital', 'transaction', 'disintermediation', 'associated', 'with', 'the', 'rise', 'of', 'ecommerce', 'D2C', 'models', '.', 'These', 'first', 'two', 'types', 'of', 'digital', '(', 'dis', ')', 'intermediation', 'are', 'primarily', 'topdown', 'processes', ',', 'where', 'firms', 'are', 'developing', 'new', 'ways', 'to', 'sell', 'their', 'brands', 'to', 'consumers', '.', 'The', 'next', 'two', 'types', 'of', 'digital', '(', 'dis', ')', 'intermediation', 'are', 'of', 'the', 'bottom-up', 'kind', '—', 'the', 'consumer', 'is', 'in', 'the', 'driver', \"'s\", 'seat', '.', 'Digital', 'marketing', 'intermediation', 'and', 'the', 'rise', 'of', 'D2C', 'brand-building', 'models', 'is', 'powered', 'by', 'crowdsourcing', '.', 'A', 'final', 'development', 'is', 'digital', 'marketing', 'disintermediation', ',', 'which', 'is', 'closely', 'tied', 'to', 'the', 'rise', 'of', 'C2C', 'models', '.', 'We', 'present', 'issues', 'in', 'need', 'of', 'future', 'research', 'for', 'each', 'type', 'of', 'digital', '(', 'dis', ')', 'intermediation', '.', 'We', 'conclude', 'with', 'an', 'appeal', 'that', 'marketing', 'takes', 'the', 'lead', 'in', 'developing', 'overarching', ',', 'indigenous', 'theories', 'of', 'digital', '(', 'dis', ')', 'intermediation', 'to', 'make', 'sense', 'of', 'the', 'rapid', 'changes', 'in', 'the', 'marketplace', '.']\n"
     ]
    }
   ],
   "source": [
    "from nltk.tokenize import word_tokenize\n",
    "tokenized_word=word_tokenize(text)\n",
    "print(tokenized_word)"
   ]
  },
  {
   "cell_type": "code",
   "execution_count": 6,
   "metadata": {},
   "outputs": [
    {
     "name": "stdout",
     "output_type": "stream",
     "text": [
      "<FreqDist with 107 samples and 223 outcomes>\n"
     ]
    }
   ],
   "source": [
    "from nltk.probability import FreqDist\n",
    "fdist = FreqDist(tokenized_word)\n",
    "print(fdist)"
   ]
  },
  {
   "cell_type": "code",
   "execution_count": 7,
   "metadata": {},
   "outputs": [
    {
     "data": {
      "text/plain": [
       "[('of', 14), ('the', 11), ('.', 10), ('digital', 9), ('intermediation', 8)]"
      ]
     },
     "execution_count": 7,
     "metadata": {},
     "output_type": "execute_result"
    }
   ],
   "source": [
    "fdist.most_common(5)"
   ]
  },
  {
   "cell_type": "code",
   "execution_count": 8,
   "metadata": {},
   "outputs": [
    {
     "data": {
      "image/png": "[encoded data removed]",
      "text/plain": [
       "<Figure size 432x288 with 1 Axes>"
      ]
     },
     "metadata": {
      "needs_background": "light"
     },
     "output_type": "display_data"
    }
   ],
   "source": [
    "import matplotlib.pyplot as plt\n",
    "fdist.plot(30,cumulative=False)\n",
    "plt.show()"
   ]
  },
  {
   "cell_type": "markdown",
   "metadata": {},
   "source": [
    "## Stopwords usually do not contribute to the main goal of the research. Text may contain stop words such as is, am, are, this, a, an, the, etc.\n",
    "\n",
    "## In NLTK for removing stopwords, you need to create a list of stopwords and filter out your list of tokens from these words."
   ]
  },
  {
   "cell_type": "code",
   "execution_count": 9,
   "metadata": {},
   "outputs": [
    {
     "name": "stdout",
     "output_type": "stream",
     "text": [
      "{'just', 'now', 'under', \"you'll\", 'all', 'other', \"didn't\", 'in', 'below', 'do', 'not', \"needn't\", 'as', 'ours', 'what', 'so', 'before', 'of', 'been', 'which', 'isn', 'their', \"aren't\", 'some', 'against', 'from', 'have', 'off', 'doing', 'by', \"hasn't\", 'm', \"weren't\", 'herself', 'is', 'did', 'such', 'are', 'him', \"it's\", 'don', \"hadn't\", 'shouldn', 'were', \"you're\", 'then', 'our', 'up', 'himself', \"mightn't\", 'an', 'out', 've', \"mustn't\", 'on', 'but', 'hadn', 'me', 'theirs', 'am', 'needn', 'any', 'should', \"doesn't\", 'with', 'this', 'those', 'both', 'during', 'it', 'your', 'having', 'after', \"wasn't\", 'ourselves', 'above', 'only', 'themselves', \"shouldn't\", 'wouldn', 'you', 'when', 'where', 'once', 'they', 'same', 'his', 'into', 'wasn', 'and', 'each', 'he', 'about', 'here', 'she', 'yours', 'had', \"wouldn't\", 'mustn', 'll', \"shan't\", 'no', 'that', \"she's\", 'haven', 'them', 'or', 'has', 'these', 'until', 'most', 'won', 'whom', 'can', \"couldn't\", 'at', 'couldn', \"you've\", 'a', 'if', 'was', 'there', 'o', 'ain', \"you'd\", 'my', 'does', 'through', 'shan', 'will', \"haven't\", 'why', \"should've\", 'ma', 'weren', 'being', 'for', 'few', 'more', 'too', 'because', 'y', 'yourselves', \"don't\", 'didn', 'again', 'how', 'further', \"that'll\", 'nor', 'her', 'own', 'who', 'than', 'hers', 'mightn', 's', 'd', 'be', 'i', 'over', 'hasn', 'very', \"isn't\", 'yourself', 'to', 'doesn', 'while', 'itself', 'between', 't', 'its', 'aren', 'down', 'we', 'myself', 'the', \"won't\", 're'}\n"
     ]
    },
    {
     "name": "stderr",
     "output_type": "stream",
     "text": [
      "[nltk_data] Downloading package stopwords to\n",
      "[nltk_data]     C:\\Users\\xiada\\AppData\\Roaming\\nltk_data...\n",
      "[nltk_data]   Package stopwords is already up-to-date!\n"
     ]
    }
   ],
   "source": [
    "nltk.download('stopwords')\n",
    "from nltk.corpus import stopwords\n",
    "\n",
    "stop_words=set(stopwords.words(\"english\"))\n",
    "print(stop_words)"
   ]
  },
  {
   "cell_type": "code",
   "execution_count": 10,
   "metadata": {},
   "outputs": [
    {
     "name": "stdout",
     "output_type": "stream",
     "text": [
      "Tokenized Sentence: ['Marketing', 'academics', 'are', 'keenly', 'aware', 'of', 'the', 'seismic', 'shifts', 'in', 'today', \"'s\", 'marketing', 'environmentcaused', 'by', 'digital', '(', 'dis', ')', 'intermediation', '.', 'In', 'this', 'article', ',', 'we', 'discuss', 'four', 'types', 'of', 'digital', '(', 'dis', ')', 'intermediation', ',', 'and', 'how', 'they', 'affect', 'branding', 'activities', 'of', 'incumbents', 'and', 'new', 'firms', '.', 'First', ',', 'we', 'discuss', 'digital', 'transaction', 'intermediation', ',', 'a', 'development', 'that', 'is', 'closely', 'tied', 'to', 'the', 'rise', 'of', 'ecommerce', 'retailers', '.', 'A', 'second', 'type', 'is', 'digital', 'transaction', 'disintermediation', 'associated', 'with', 'the', 'rise', 'of', 'ecommerce', 'D2C', 'models', '.', 'These', 'first', 'two', 'types', 'of', 'digital', '(', 'dis', ')', 'intermediation', 'are', 'primarily', 'topdown', 'processes', ',', 'where', 'firms', 'are', 'developing', 'new', 'ways', 'to', 'sell', 'their', 'brands', 'to', 'consumers', '.', 'The', 'next', 'two', 'types', 'of', 'digital', '(', 'dis', ')', 'intermediation', 'are', 'of', 'the', 'bottom-up', 'kind', '—', 'the', 'consumer', 'is', 'in', 'the', 'driver', \"'s\", 'seat', '.', 'Digital', 'marketing', 'intermediation', 'and', 'the', 'rise', 'of', 'D2C', 'brand-building', 'models', 'is', 'powered', 'by', 'crowdsourcing', '.', 'A', 'final', 'development', 'is', 'digital', 'marketing', 'disintermediation', ',', 'which', 'is', 'closely', 'tied', 'to', 'the', 'rise', 'of', 'C2C', 'models', '.', 'We', 'present', 'issues', 'in', 'need', 'of', 'future', 'research', 'for', 'each', 'type', 'of', 'digital', '(', 'dis', ')', 'intermediation', '.', 'We', 'conclude', 'with', 'an', 'appeal', 'that', 'marketing', 'takes', 'the', 'lead', 'in', 'developing', 'overarching', ',', 'indigenous', 'theories', 'of', 'digital', '(', 'dis', ')', 'intermediation', 'to', 'make', 'sense', 'of', 'the', 'rapid', 'changes', 'in', 'the', 'marketplace', '.']\n",
      "Filterd Sentence: ['Marketing', 'academics', 'keenly', 'aware', 'seismic', 'shifts', 'today', \"'s\", 'marketing', 'environmentcaused', 'digital', '(', 'dis', ')', 'intermediation', '.', 'In', 'article', ',', 'discuss', 'four', 'types', 'digital', '(', 'dis', ')', 'intermediation', ',', 'affect', 'branding', 'activities', 'incumbents', 'new', 'firms', '.', 'First', ',', 'discuss', 'digital', 'transaction', 'intermediation', ',', 'development', 'closely', 'tied', 'rise', 'ecommerce', 'retailers', '.', 'A', 'second', 'type', 'digital', 'transaction', 'disintermediation', 'associated', 'rise', 'ecommerce', 'D2C', 'models', '.', 'These', 'first', 'two', 'types', 'digital', '(', 'dis', ')', 'intermediation', 'primarily', 'topdown', 'processes', ',', 'firms', 'developing', 'new', 'ways', 'sell', 'brands', 'consumers', '.', 'The', 'next', 'two', 'types', 'digital', '(', 'dis', ')', 'intermediation', 'bottom-up', 'kind', '—', 'consumer', 'driver', \"'s\", 'seat', '.', 'Digital', 'marketing', 'intermediation', 'rise', 'D2C', 'brand-building', 'models', 'powered', 'crowdsourcing', '.', 'A', 'final', 'development', 'digital', 'marketing', 'disintermediation', ',', 'closely', 'tied', 'rise', 'C2C', 'models', '.', 'We', 'present', 'issues', 'need', 'future', 'research', 'type', 'digital', '(', 'dis', ')', 'intermediation', '.', 'We', 'conclude', 'appeal', 'marketing', 'takes', 'lead', 'developing', 'overarching', ',', 'indigenous', 'theories', 'digital', '(', 'dis', ')', 'intermediation', 'make', 'sense', 'rapid', 'changes', 'marketplace', '.']\n"
     ]
    }
   ],
   "source": [
    "tokenized_sent = tokenized_word\n",
    "filtered_sent=[]\n",
    "for w in tokenized_sent:\n",
    "    if w not in stop_words:\n",
    "        filtered_sent.append(w)\n",
    "print(\"Tokenized Sentence:\",tokenized_sent)\n",
    "print(\"Filterd Sentence:\",filtered_sent)"
   ]
  },
  {
   "cell_type": "markdown",
   "metadata": {},
   "source": [
    "## Python Regular Expression Tutorial\n",
    "### Regular expressions are a generalized way to match patterns with sequences of characters. It is used in every programming language like C++, Java and Python.\n",
    "\n",
    "https://www.datacamp.com/community/tutorials/python-regular-expression-tutorial\n",
    "\n",
    "<br>\n",
    "\n",
    "## Basic Patterns: Ordinary Characters\n",
    "### One can easily tackle many basic patterns in Python using ordinary characters. Examples are 'A', 'a', 'X', '5'. The match() function returns a match object if the text matches the pattern.\n",
    "\n",
    "https://www.datacamp.com/community/tutorials/python-regular-expression-tutorial\n",
    "\n",
    "\n",
    "https://www.geeksforgeeks.org/write-regular-expressions/"
   ]
  },
  {
   "cell_type": "code",
   "execution_count": 11,
   "metadata": {},
   "outputs": [
    {
     "name": "stdout",
     "output_type": "stream",
     "text": [
      "Match!\n"
     ]
    }
   ],
   "source": [
    "import re\n",
    "\n",
    "pattern = r\"Cookie\"\n",
    "sequence = \"Cookie\"\n",
    "if re.match(pattern, sequence):\n",
    "    print(\"Match!\")\n",
    "else: print(\"Not a match!\")"
   ]
  },
  {
   "cell_type": "markdown",
   "metadata": {},
   "source": [
    "## One may try matching various strings against the RE [a-z]+. An empty string shouldn’t match at all, since + means ‘one or more repetitions’. match() should return None in this case, which will cause the interpreter to print no output. You can explicitly print the result of match() to make this clear."
   ]
  },
  {
   "cell_type": "code",
   "execution_count": 12,
   "metadata": {},
   "outputs": [
    {
     "data": {
      "text/plain": [
       "re.compile(r'[a-z]+', re.UNICODE)"
      ]
     },
     "execution_count": 12,
     "metadata": {},
     "output_type": "execute_result"
    }
   ],
   "source": [
    "import re\n",
    "p = re.compile('[a-z]+')\n",
    "p"
   ]
  },
  {
   "cell_type": "code",
   "execution_count": 13,
   "metadata": {},
   "outputs": [
    {
     "name": "stdout",
     "output_type": "stream",
     "text": [
      "<re.Match object; span=(0, 7), match='abcdefg'>\n"
     ]
    }
   ],
   "source": [
    "p.match('')\n",
    "print(p.match('abcdefg'))"
   ]
  },
  {
   "cell_type": "markdown",
   "metadata": {},
   "source": [
    "## The group function returns the string matched by the re. You will see both these functions in more detail later."
   ]
  },
  {
   "cell_type": "code",
   "execution_count": 14,
   "metadata": {},
   "outputs": [
    {
     "data": {
      "text/plain": [
       "'Cookie'"
      ]
     },
     "execution_count": 14,
     "metadata": {},
     "output_type": "execute_result"
    }
   ],
   "source": [
    "re.search(r'Co.k.e', 'Cookie').group()"
   ]
  },
  {
   "cell_type": "code",
   "execution_count": 15,
   "metadata": {},
   "outputs": [
    {
     "name": "stdout",
     "output_type": "stream",
     "text": [
      "('123', '456', '789')\n",
      "('222', '168', '888')\n"
     ]
    }
   ],
   "source": [
    "# import re\n",
    "data1 = \"Here’s my application number 123-456-789.\"\n",
    "data2 = '222-168-888 is my application number.'\n",
    "pattern = re.compile(r'(\\d{3})-(\\d{3})-(\\d{3})')\n",
    "dmatch1 = re.search(pattern, data1)\n",
    "dmatch2 = re.search(pattern, data2)\n",
    "\n",
    "print (dmatch1.groups())\n",
    "\n",
    "print(dmatch2.groups())\n",
    "\n",
    "# print dmatch1\n",
    "# print dmatch2\n"
   ]
  },
  {
   "cell_type": "code",
   "execution_count": 16,
   "metadata": {},
   "outputs": [
    {
     "name": "stdout",
     "output_type": "stream",
     "text": [
      "abc123@hotmail.com\n",
      "abcd1234@163.com\n"
     ]
    }
   ],
   "source": [
    "## Regex are used in Google analytics in URL matching in supporting search and replace \n",
    "## in most popular editors like Sublime, Notepad++, Brackets, Google Docs and Microsoft word.\n",
    "## https://www.geeksforgeeks.org/check-if-email-address-valid-or-not-in-python/\n",
    "\n",
    "email1 = 'abc123@hotmail.com'\n",
    "email2 = 'abcd1234@163.com'\n",
    "pattern2 = re.compile(r'(([a-zA-Z0-9_\\-\\.]+)@([a-zA-Z0-9_\\-\\.]+)\\.([a-zA-Z]{2,5})$)')\n",
    "dmatch3 = re.search(pattern2, email1)\n",
    "dmatch4 = re.search(pattern2, email2)\n",
    "\n",
    "print(dmatch3.group())\n",
    "print(dmatch4.group())"
   ]
  },
  {
   "cell_type": "markdown",
   "metadata": {},
   "source": [
    "## See likely Errors \n",
    "\n",
    "https://stackoverflow.com/questions/30963705/python-regex-attributeerror-nonetype-object-has-no-attribute-group/30964049"
   ]
  },
  {
   "cell_type": "markdown",
   "metadata": {},
   "source": [
    "## Lexicon normalization considers another type of noise in the text. For example, connection, connected, connecting word reduce to a common word \"connect\". It reduces derivationally related forms of a word to a common root word."
   ]
  },
  {
   "cell_type": "code",
   "execution_count": 17,
   "metadata": {},
   "outputs": [
    {
     "name": "stdout",
     "output_type": "stream",
     "text": [
      "Kappa:   0.48361930911437895\n",
      "Fleiss:  0.48345307519652364\n",
      "Alpha:   0.48379021667761\n"
     ]
    }
   ],
   "source": [
    "# NLTK\n",
    "# Note: recoding these is annoying, as you can see.\n",
    "#       We could reshape the columns and recode some stuff,\n",
    "#       but it's probably practically worse than this.\n",
    "\n",
    "ratings2_list = []\n",
    "rater = 0\n",
    "for rd in [r1_diff, r2_diff, r3_diff]:\n",
    "    values = np.array(true_scores) + np.array(rd)\n",
    "    df = pd.DataFrame(values, columns=['value'])\n",
    "    df = df.clip(1, 7)\n",
    "    df['rater'] = rater\n",
    "    df['item'] = range(200)\n",
    "    ratings2_list.append(df)\n",
    "    rater += 1\n",
    "\n",
    "ratings2 = pd.concat(ratings2_list, ignore_index=True)\n",
    "ratings_nltk = [tuple(x) for x in ratings2[['rater', 'item', 'value']].values]\n",
    "\n",
    "nltk_rate = agreement.AnnotationTask(data=ratings_nltk)\n",
    "\n",
    "print(f'Kappa:   {nltk_rate.kappa()}')\n",
    "print(f'Fleiss:  {nltk_rate.multi_kappa()}')\n",
    "print(f'Alpha:   {nltk_rate.alpha()}')"
   ]
  },
  {
   "cell_type": "markdown",
   "metadata": {},
   "source": [
    "# Exporting data for coding"
   ]
  },
  {
   "cell_type": "code",
   "execution_count": 48,
   "metadata": {},
   "outputs": [
    {
     "data": {
      "text/html": [
       "<div>\n",
       "<style scoped>\n",
       "    .dataframe tbody tr th:only-of-type {\n",
       "        vertical-align: middle;\n",
       "    }\n",
       "\n",
       "    .dataframe tbody tr th {\n",
       "        vertical-align: top;\n",
       "    }\n",
       "\n",
       "    .dataframe thead th {\n",
       "        text-align: right;\n",
       "    }\n",
       "</style>\n",
       "<table border=\"1\" class=\"dataframe\">\n",
       "  <thead>\n",
       "    <tr style=\"text-align: right;\">\n",
       "      <th></th>\n",
       "      <th>article:modified_time</th>\n",
       "      <th>article:published_time</th>\n",
       "      <th>article:section</th>\n",
       "      <th>body</th>\n",
       "      <th>h3</th>\n",
       "      <th>og:description</th>\n",
       "      <th>og:title</th>\n",
       "      <th>og:updated_time</th>\n",
       "      <th>og:url</th>\n",
       "    </tr>\n",
       "  </thead>\n",
       "  <tbody>\n",
       "    <tr>\n",
       "      <th>0</th>\n",
       "      <td>2018-10-12T00:36:34+00:00</td>\n",
       "      <td>2018-10-11T23:16:52+00:00</td>\n",
       "      <td>Press Releases</td>\n",
       "      <td>REDMOND, Wash. — Oct. 11, 2018 — Microsoft Cor...</td>\n",
       "      <td>Microsoft to host earnings conference call web...</td>\n",
       "      <td>Microsoft to host earnings conference call web...</td>\n",
       "      <td>Microsoft announces quarterly earnings release...</td>\n",
       "      <td>2018-10-12T00:36:34+00:00</td>\n",
       "      <td>https://news.microsoft.com/2018/10/11/microsof...</td>\n",
       "    </tr>\n",
       "    <tr>\n",
       "      <th>1</th>\n",
       "      <td>2018-10-11T16:36:30+00:00</td>\n",
       "      <td>2018-10-11T14:00:25+00:00</td>\n",
       "      <td>Press Releases</td>\n",
       "      <td>INDIANAPOLIS – Oct. 11, 2018 – Today, Eric J. ...</td>\n",
       "      <td>With support provided by Walmart, and in partn...</td>\n",
       "      <td>With support provided by Walmart, and in partn...</td>\n",
       "      <td>Indiana Governor Eric J. Holcomb, the Markle F...</td>\n",
       "      <td>2018-10-11T16:36:30+00:00</td>\n",
       "      <td>https://news.microsoft.com/2018/10/11/indiana-...</td>\n",
       "    </tr>\n",
       "    <tr>\n",
       "      <th>2</th>\n",
       "      <td>2018-10-11T07:05:46+00:00</td>\n",
       "      <td>2018-10-11T07:04:28+00:00</td>\n",
       "      <td>Press Releases</td>\n",
       "      <td>MUMBAI, India — Oct. 11, 2018 — Microsoft Corp...</td>\n",
       "      <td>NaN</td>\n",
       "      <td>Microsoft, Star India and Anil Kumble redefine...</td>\n",
       "      <td>Anil Kumble’s Microsoft AI-enabled Power Bat p...</td>\n",
       "      <td>2018-10-11T07:05:46+00:00</td>\n",
       "      <td>https://news.microsoft.com/2018/10/11/anil-kum...</td>\n",
       "    </tr>\n",
       "    <tr>\n",
       "      <th>3</th>\n",
       "      <td>2018-10-11T20:29:31+00:00</td>\n",
       "      <td>2018-10-10T18:00:22+00:00</td>\n",
       "      <td>Press Releases</td>\n",
       "      <td>BOYDTON, Va. — Oct. 10, 2018 — Microsoft Corp....</td>\n",
       "      <td>NaN</td>\n",
       "      <td>BOYDTON, Va. — Oct. 10, 2018 — Microsoft Corp....</td>\n",
       "      <td>Microsoft and Lake Country Satellite roll out ...</td>\n",
       "      <td>2018-10-11T20:29:31+00:00</td>\n",
       "      <td>https://news.microsoft.com/2018/10/10/microsof...</td>\n",
       "    </tr>\n",
       "    <tr>\n",
       "      <th>4</th>\n",
       "      <td>NaN</td>\n",
       "      <td>2018-10-10T15:15:58+00:00</td>\n",
       "      <td>Press Releases</td>\n",
       "      <td>Charleston, S.C. (October 10, 2018) — Blackbau...</td>\n",
       "      <td>Introduce first phase of initiative with joint...</td>\n",
       "      <td>Introduce first phase of initiative with joint...</td>\n",
       "      <td>Blackbaud and Microsoft expand partnership wit...</td>\n",
       "      <td>NaN</td>\n",
       "      <td>https://news.microsoft.com/2018/10/10/blackbau...</td>\n",
       "    </tr>\n",
       "  </tbody>\n",
       "</table>\n",
       "</div>"
      ],
      "text/plain": [
       "       article:modified_time     article:published_time article:section  \\\n",
       "0  2018-10-12T00:36:34+00:00  2018-10-11T23:16:52+00:00  Press Releases   \n",
       "1  2018-10-11T16:36:30+00:00  2018-10-11T14:00:25+00:00  Press Releases   \n",
       "2  2018-10-11T07:05:46+00:00  2018-10-11T07:04:28+00:00  Press Releases   \n",
       "3  2018-10-11T20:29:31+00:00  2018-10-10T18:00:22+00:00  Press Releases   \n",
       "4                        NaN  2018-10-10T15:15:58+00:00  Press Releases   \n",
       "\n",
       "                                                body  \\\n",
       "0  REDMOND, Wash. — Oct. 11, 2018 — Microsoft Cor...   \n",
       "1  INDIANAPOLIS – Oct. 11, 2018 – Today, Eric J. ...   \n",
       "2  MUMBAI, India — Oct. 11, 2018 — Microsoft Corp...   \n",
       "3  BOYDTON, Va. — Oct. 10, 2018 — Microsoft Corp....   \n",
       "4  Charleston, S.C. (October 10, 2018) — Blackbau...   \n",
       "\n",
       "                                                  h3  \\\n",
       "0  Microsoft to host earnings conference call web...   \n",
       "1  With support provided by Walmart, and in partn...   \n",
       "2                                                NaN   \n",
       "3                                                NaN   \n",
       "4  Introduce first phase of initiative with joint...   \n",
       "\n",
       "                                      og:description  \\\n",
       "0  Microsoft to host earnings conference call web...   \n",
       "1  With support provided by Walmart, and in partn...   \n",
       "2  Microsoft, Star India and Anil Kumble redefine...   \n",
       "3  BOYDTON, Va. — Oct. 10, 2018 — Microsoft Corp....   \n",
       "4  Introduce first phase of initiative with joint...   \n",
       "\n",
       "                                            og:title  \\\n",
       "0  Microsoft announces quarterly earnings release...   \n",
       "1  Indiana Governor Eric J. Holcomb, the Markle F...   \n",
       "2  Anil Kumble’s Microsoft AI-enabled Power Bat p...   \n",
       "3  Microsoft and Lake Country Satellite roll out ...   \n",
       "4  Blackbaud and Microsoft expand partnership wit...   \n",
       "\n",
       "             og:updated_time  \\\n",
       "0  2018-10-12T00:36:34+00:00   \n",
       "1  2018-10-11T16:36:30+00:00   \n",
       "2  2018-10-11T07:05:46+00:00   \n",
       "3  2018-10-11T20:29:31+00:00   \n",
       "4                        NaN   \n",
       "\n",
       "                                              og:url  \n",
       "0  https://news.microsoft.com/2018/10/11/microsof...  \n",
       "1  https://news.microsoft.com/2018/10/11/indiana-...  \n",
       "2  https://news.microsoft.com/2018/10/11/anil-kum...  \n",
       "3  https://news.microsoft.com/2018/10/10/microsof...  \n",
       "4  https://news.microsoft.com/2018/10/10/blackbau...  "
      ]
     },
     "execution_count": 48,
     "metadata": {},
     "output_type": "execute_result"
    }
   ],
   "source": [
    "msft_prs = pd.read_csv('../data/msft_prs.csv')\n",
    "\n",
    "# msft_prs = pd.read_csv('../data/msft_prs.csv', index_col='article:modified_time')\n",
    "msft_prs.head()"
   ]
  },
  {
   "cell_type": "code",
   "execution_count": 19,
   "metadata": {},
   "outputs": [],
   "source": [
    "msft_prs_export = msft_prs[['og:title']].copy()\n",
    "\n",
    "# We'd usually recover this from a filename or other metadata.\n",
    "msft_prs_export.loc[:,'id_ticker'] = 'msft'\n",
    "\n",
    "# Add empty columns for coding.\n",
    "_PR_COLS = ['cat_partner', 'cat_dividend', 'cat_award']\n",
    "for col in _PR_COLS:\n",
    "    msft_prs_export.loc[:,col] = ''"
   ]
  },
  {
   "cell_type": "code",
   "execution_count": 20,
   "metadata": {},
   "outputs": [
    {
     "data": {
      "text/html": [
       "<div>\n",
       "<style scoped>\n",
       "    .dataframe tbody tr th:only-of-type {\n",
       "        vertical-align: middle;\n",
       "    }\n",
       "\n",
       "    .dataframe tbody tr th {\n",
       "        vertical-align: top;\n",
       "    }\n",
       "\n",
       "    .dataframe thead th {\n",
       "        text-align: right;\n",
       "    }\n",
       "</style>\n",
       "<table border=\"1\" class=\"dataframe\">\n",
       "  <thead>\n",
       "    <tr style=\"text-align: right;\">\n",
       "      <th></th>\n",
       "      <th>og:title</th>\n",
       "      <th>id_ticker</th>\n",
       "      <th>cat_partner</th>\n",
       "      <th>cat_dividend</th>\n",
       "      <th>cat_award</th>\n",
       "    </tr>\n",
       "  </thead>\n",
       "  <tbody>\n",
       "    <tr>\n",
       "      <th>0</th>\n",
       "      <td>Microsoft announces quarterly earnings release...</td>\n",
       "      <td>msft</td>\n",
       "      <td></td>\n",
       "      <td></td>\n",
       "      <td></td>\n",
       "    </tr>\n",
       "    <tr>\n",
       "      <th>1</th>\n",
       "      <td>Indiana Governor Eric J. Holcomb, the Markle F...</td>\n",
       "      <td>msft</td>\n",
       "      <td></td>\n",
       "      <td></td>\n",
       "      <td></td>\n",
       "    </tr>\n",
       "    <tr>\n",
       "      <th>2</th>\n",
       "      <td>Anil Kumble’s Microsoft AI-enabled Power Bat p...</td>\n",
       "      <td>msft</td>\n",
       "      <td></td>\n",
       "      <td></td>\n",
       "      <td></td>\n",
       "    </tr>\n",
       "    <tr>\n",
       "      <th>3</th>\n",
       "      <td>Microsoft and Lake Country Satellite roll out ...</td>\n",
       "      <td>msft</td>\n",
       "      <td></td>\n",
       "      <td></td>\n",
       "      <td></td>\n",
       "    </tr>\n",
       "    <tr>\n",
       "      <th>4</th>\n",
       "      <td>Blackbaud and Microsoft expand partnership wit...</td>\n",
       "      <td>msft</td>\n",
       "      <td></td>\n",
       "      <td></td>\n",
       "      <td></td>\n",
       "    </tr>\n",
       "  </tbody>\n",
       "</table>\n",
       "</div>"
      ],
      "text/plain": [
       "                                            og:title id_ticker cat_partner  \\\n",
       "0  Microsoft announces quarterly earnings release...      msft               \n",
       "1  Indiana Governor Eric J. Holcomb, the Markle F...      msft               \n",
       "2  Anil Kumble’s Microsoft AI-enabled Power Bat p...      msft               \n",
       "3  Microsoft and Lake Country Satellite roll out ...      msft               \n",
       "4  Blackbaud and Microsoft expand partnership wit...      msft               \n",
       "\n",
       "  cat_dividend cat_award  \n",
       "0                         \n",
       "1                         \n",
       "2                         \n",
       "3                         \n",
       "4                         "
      ]
     },
     "execution_count": 20,
     "metadata": {},
     "output_type": "execute_result"
    }
   ],
   "source": [
    "msft_prs_export.head()"
   ]
  },
  {
   "cell_type": "code",
   "execution_count": 21,
   "metadata": {},
   "outputs": [],
   "source": [
    "# Let's reorder to put the title at the end and export\n",
    "msft_prs_export[['id_ticker', 'cat_partner', \n",
    "                 'cat_dividend', 'cat_award',\n",
    "                 'og:title']].to_csv('../data/msft_pr_coding.csv')"
   ]
  },
  {
   "cell_type": "markdown",
   "metadata": {},
   "source": [
    "# Import from LIWC\n",
    "\n",
    "I ran these in LIWC for us.\n",
    "\n",
    "Note that it would be similar to import human-coded data, and we would not be dropping those columns in that case."
   ]
  },
  {
   "cell_type": "code",
   "execution_count": 22,
   "metadata": {},
   "outputs": [
    {
     "data": {
      "text/html": [
       "<div>\n",
       "<style scoped>\n",
       "    .dataframe tbody tr th:only-of-type {\n",
       "        vertical-align: middle;\n",
       "    }\n",
       "\n",
       "    .dataframe tbody tr th {\n",
       "        vertical-align: top;\n",
       "    }\n",
       "\n",
       "    .dataframe thead th {\n",
       "        text-align: right;\n",
       "    }\n",
       "</style>\n",
       "<table border=\"1\" class=\"dataframe\">\n",
       "  <thead>\n",
       "    <tr style=\"text-align: right;\">\n",
       "      <th></th>\n",
       "      <th>Source (A)</th>\n",
       "      <th>Source (B)</th>\n",
       "      <th>Source (C)</th>\n",
       "      <th>Source (D)</th>\n",
       "      <th>Source (E)</th>\n",
       "      <th>Source (F)</th>\n",
       "      <th>WC</th>\n",
       "      <th>Analytic</th>\n",
       "      <th>Clout</th>\n",
       "      <th>Authentic</th>\n",
       "      <th>...</th>\n",
       "      <th>Comma</th>\n",
       "      <th>Colon</th>\n",
       "      <th>SemiC</th>\n",
       "      <th>QMark</th>\n",
       "      <th>Exclam</th>\n",
       "      <th>Dash</th>\n",
       "      <th>Quote</th>\n",
       "      <th>Apostro</th>\n",
       "      <th>Parenth</th>\n",
       "      <th>OtherP</th>\n",
       "    </tr>\n",
       "  </thead>\n",
       "  <tbody>\n",
       "    <tr>\n",
       "      <th>0</th>\n",
       "      <td>0</td>\n",
       "      <td>msft</td>\n",
       "      <td>NaN</td>\n",
       "      <td>NaN</td>\n",
       "      <td>NaN</td>\n",
       "      <td>Grab forges strategic cloud partnership with M...</td>\n",
       "      <td>19</td>\n",
       "      <td>99.00</td>\n",
       "      <td>85.38</td>\n",
       "      <td>19.27</td>\n",
       "      <td>...</td>\n",
       "      <td>0.00</td>\n",
       "      <td>0.0</td>\n",
       "      <td>0.0</td>\n",
       "      <td>0.0</td>\n",
       "      <td>0.0</td>\n",
       "      <td>5.26</td>\n",
       "      <td>0.0</td>\n",
       "      <td>0.0</td>\n",
       "      <td>0.0</td>\n",
       "      <td>0.0</td>\n",
       "    </tr>\n",
       "    <tr>\n",
       "      <th>1</th>\n",
       "      <td>1</td>\n",
       "      <td>msft</td>\n",
       "      <td>NaN</td>\n",
       "      <td>NaN</td>\n",
       "      <td>NaN</td>\n",
       "      <td>Redline Communications and Microsoft announce ...</td>\n",
       "      <td>16</td>\n",
       "      <td>99.00</td>\n",
       "      <td>96.95</td>\n",
       "      <td>35.37</td>\n",
       "      <td>...</td>\n",
       "      <td>0.00</td>\n",
       "      <td>0.0</td>\n",
       "      <td>0.0</td>\n",
       "      <td>0.0</td>\n",
       "      <td>0.0</td>\n",
       "      <td>6.25</td>\n",
       "      <td>0.0</td>\n",
       "      <td>0.0</td>\n",
       "      <td>0.0</td>\n",
       "      <td>0.0</td>\n",
       "    </tr>\n",
       "    <tr>\n",
       "      <th>2</th>\n",
       "      <td>2</td>\n",
       "      <td>msft</td>\n",
       "      <td>NaN</td>\n",
       "      <td>NaN</td>\n",
       "      <td>NaN</td>\n",
       "      <td>Adobe, Microsoft and SAP announce the Open Dat...</td>\n",
       "      <td>18</td>\n",
       "      <td>99.00</td>\n",
       "      <td>71.09</td>\n",
       "      <td>58.07</td>\n",
       "      <td>...</td>\n",
       "      <td>5.56</td>\n",
       "      <td>0.0</td>\n",
       "      <td>0.0</td>\n",
       "      <td>0.0</td>\n",
       "      <td>0.0</td>\n",
       "      <td>5.56</td>\n",
       "      <td>0.0</td>\n",
       "      <td>0.0</td>\n",
       "      <td>0.0</td>\n",
       "      <td>0.0</td>\n",
       "    </tr>\n",
       "    <tr>\n",
       "      <th>3</th>\n",
       "      <td>3</td>\n",
       "      <td>msft</td>\n",
       "      <td>NaN</td>\n",
       "      <td>NaN</td>\n",
       "      <td>NaN</td>\n",
       "      <td>Microsoft fortifies security and brings AI to ...</td>\n",
       "      <td>13</td>\n",
       "      <td>99.00</td>\n",
       "      <td>77.92</td>\n",
       "      <td>17.46</td>\n",
       "      <td>...</td>\n",
       "      <td>0.00</td>\n",
       "      <td>0.0</td>\n",
       "      <td>0.0</td>\n",
       "      <td>0.0</td>\n",
       "      <td>0.0</td>\n",
       "      <td>7.69</td>\n",
       "      <td>0.0</td>\n",
       "      <td>0.0</td>\n",
       "      <td>0.0</td>\n",
       "      <td>0.0</td>\n",
       "    </tr>\n",
       "    <tr>\n",
       "      <th>4</th>\n",
       "      <td>4</td>\n",
       "      <td>msft</td>\n",
       "      <td>NaN</td>\n",
       "      <td>NaN</td>\n",
       "      <td>NaN</td>\n",
       "      <td>Shell expands strategic collaboration with Mic...</td>\n",
       "      <td>13</td>\n",
       "      <td>97.77</td>\n",
       "      <td>77.92</td>\n",
       "      <td>17.46</td>\n",
       "      <td>...</td>\n",
       "      <td>0.00</td>\n",
       "      <td>0.0</td>\n",
       "      <td>0.0</td>\n",
       "      <td>0.0</td>\n",
       "      <td>0.0</td>\n",
       "      <td>7.69</td>\n",
       "      <td>0.0</td>\n",
       "      <td>0.0</td>\n",
       "      <td>0.0</td>\n",
       "      <td>0.0</td>\n",
       "    </tr>\n",
       "  </tbody>\n",
       "</table>\n",
       "<p>5 rows × 99 columns</p>\n",
       "</div>"
      ],
      "text/plain": [
       "   Source (A) Source (B)  Source (C)  Source (D)  Source (E)  \\\n",
       "0           0       msft         NaN         NaN         NaN   \n",
       "1           1       msft         NaN         NaN         NaN   \n",
       "2           2       msft         NaN         NaN         NaN   \n",
       "3           3       msft         NaN         NaN         NaN   \n",
       "4           4       msft         NaN         NaN         NaN   \n",
       "\n",
       "                                          Source (F)  WC  Analytic  Clout  \\\n",
       "0  Grab forges strategic cloud partnership with M...  19     99.00  85.38   \n",
       "1  Redline Communications and Microsoft announce ...  16     99.00  96.95   \n",
       "2  Adobe, Microsoft and SAP announce the Open Dat...  18     99.00  71.09   \n",
       "3  Microsoft fortifies security and brings AI to ...  13     99.00  77.92   \n",
       "4  Shell expands strategic collaboration with Mic...  13     97.77  77.92   \n",
       "\n",
       "   Authentic  ...  Comma  Colon  SemiC  QMark  Exclam  Dash  Quote  Apostro  \\\n",
       "0      19.27  ...   0.00    0.0    0.0    0.0     0.0  5.26    0.0      0.0   \n",
       "1      35.37  ...   0.00    0.0    0.0    0.0     0.0  6.25    0.0      0.0   \n",
       "2      58.07  ...   5.56    0.0    0.0    0.0     0.0  5.56    0.0      0.0   \n",
       "3      17.46  ...   0.00    0.0    0.0    0.0     0.0  7.69    0.0      0.0   \n",
       "4      17.46  ...   0.00    0.0    0.0    0.0     0.0  7.69    0.0      0.0   \n",
       "\n",
       "   Parenth  OtherP  \n",
       "0      0.0     0.0  \n",
       "1      0.0     0.0  \n",
       "2      0.0     0.0  \n",
       "3      0.0     0.0  \n",
       "4      0.0     0.0  \n",
       "\n",
       "[5 rows x 99 columns]"
      ]
     },
     "execution_count": 22,
     "metadata": {},
     "output_type": "execute_result"
    }
   ],
   "source": [
    "msft_liwc = pd.read_csv('../data/msft_pr_liwc.csv')\n",
    "msft_liwc.head()"
   ]
  },
  {
   "cell_type": "code",
   "execution_count": 23,
   "metadata": {},
   "outputs": [
    {
     "data": {
      "text/plain": [
       "Index(['Source (A)', 'Source (B)', 'Source (C)', 'Source (D)', 'Source (E)',\n",
       "       'Source (F)', 'WC', 'Analytic', 'Clout', 'Authentic', 'Tone', 'WPS',\n",
       "       'Sixltr', 'Dic', 'function', 'pronoun', 'ppron', 'i', 'we', 'you',\n",
       "       'shehe', 'they', 'ipron', 'article', 'prep', 'auxverb', 'adverb',\n",
       "       'conj', 'negate', 'verb', 'adj', 'compare', 'interrog', 'number',\n",
       "       'quant', 'affect', 'posemo', 'negemo', 'anx', 'anger', 'sad', 'social',\n",
       "       'family', 'friend', 'female', 'male', 'cogproc', 'insight', 'cause',\n",
       "       'discrep', 'tentat', 'certain', 'differ', 'percept', 'see', 'hear',\n",
       "       'feel', 'bio', 'body', 'health', 'sexual', 'ingest', 'drives',\n",
       "       'affiliation', 'achieve', 'power', 'reward', 'risk', 'focuspast',\n",
       "       'focuspresent', 'focusfuture', 'relativ', 'motion', 'space', 'time',\n",
       "       'work', 'leisure', 'home', 'money', 'relig', 'death', 'informal',\n",
       "       'swear', 'netspeak', 'assent', 'nonflu', 'filler', 'AllPunc', 'Period',\n",
       "       'Comma', 'Colon', 'SemiC', 'QMark', 'Exclam', 'Dash', 'Quote',\n",
       "       'Apostro', 'Parenth', 'OtherP'],\n",
       "      dtype='object')"
      ]
     },
     "execution_count": 23,
     "metadata": {},
     "output_type": "execute_result"
    }
   ],
   "source": [
    "msft_liwc.columns"
   ]
  },
  {
   "cell_type": "markdown",
   "metadata": {},
   "source": [
    "To merge these back together, we want to use a key that makes sense.\n",
    "We could use index, but there's a good reason that I am not.\n",
    "It's likely that Microsoft will have a new press release between the time I'm preparing materials and the time that we use them.\n",
    "So, we want to merge on something that will make sense.\n",
    "\n",
    "Here, for expediency, I'm using the title column.\n",
    "However, I often use a hash function on the document body to create a unique document ID.\n",
    "This is especially helpful in news collections where a lot of the documents are returned for more than one search.\n",
    "We can calculate hash values, remove duplicates, and export those for coding.\n",
    "This prevents rework."
   ]
  },
  {
   "cell_type": "code",
   "execution_count": 24,
   "metadata": {},
   "outputs": [
    {
     "data": {
      "text/html": [
       "<div>\n",
       "<style scoped>\n",
       "    .dataframe tbody tr th:only-of-type {\n",
       "        vertical-align: middle;\n",
       "    }\n",
       "\n",
       "    .dataframe tbody tr th {\n",
       "        vertical-align: top;\n",
       "    }\n",
       "\n",
       "    .dataframe thead th {\n",
       "        text-align: right;\n",
       "    }\n",
       "</style>\n",
       "<table border=\"1\" class=\"dataframe\">\n",
       "  <thead>\n",
       "    <tr style=\"text-align: right;\">\n",
       "      <th></th>\n",
       "      <th>og:title</th>\n",
       "      <th>WC</th>\n",
       "      <th>Analytic</th>\n",
       "      <th>Clout</th>\n",
       "      <th>Authentic</th>\n",
       "      <th>Tone</th>\n",
       "      <th>WPS</th>\n",
       "      <th>Sixltr</th>\n",
       "      <th>Dic</th>\n",
       "      <th>function</th>\n",
       "      <th>...</th>\n",
       "      <th>Comma</th>\n",
       "      <th>Colon</th>\n",
       "      <th>SemiC</th>\n",
       "      <th>QMark</th>\n",
       "      <th>Exclam</th>\n",
       "      <th>Dash</th>\n",
       "      <th>Quote</th>\n",
       "      <th>Apostro</th>\n",
       "      <th>Parenth</th>\n",
       "      <th>OtherP</th>\n",
       "    </tr>\n",
       "  </thead>\n",
       "  <tbody>\n",
       "    <tr>\n",
       "      <th>0</th>\n",
       "      <td>Grab forges strategic cloud partnership with M...</td>\n",
       "      <td>19</td>\n",
       "      <td>99.00</td>\n",
       "      <td>85.38</td>\n",
       "      <td>19.27</td>\n",
       "      <td>25.77</td>\n",
       "      <td>19.0</td>\n",
       "      <td>47.37</td>\n",
       "      <td>68.42</td>\n",
       "      <td>26.32</td>\n",
       "      <td>...</td>\n",
       "      <td>0.00</td>\n",
       "      <td>0.0</td>\n",
       "      <td>0.0</td>\n",
       "      <td>0.0</td>\n",
       "      <td>0.0</td>\n",
       "      <td>5.26</td>\n",
       "      <td>0.0</td>\n",
       "      <td>0.0</td>\n",
       "      <td>0.0</td>\n",
       "      <td>0.0</td>\n",
       "    </tr>\n",
       "    <tr>\n",
       "      <th>1</th>\n",
       "      <td>Redline Communications and Microsoft announce ...</td>\n",
       "      <td>16</td>\n",
       "      <td>99.00</td>\n",
       "      <td>96.95</td>\n",
       "      <td>35.37</td>\n",
       "      <td>1.00</td>\n",
       "      <td>16.0</td>\n",
       "      <td>43.75</td>\n",
       "      <td>81.25</td>\n",
       "      <td>25.00</td>\n",
       "      <td>...</td>\n",
       "      <td>0.00</td>\n",
       "      <td>0.0</td>\n",
       "      <td>0.0</td>\n",
       "      <td>0.0</td>\n",
       "      <td>0.0</td>\n",
       "      <td>6.25</td>\n",
       "      <td>0.0</td>\n",
       "      <td>0.0</td>\n",
       "      <td>0.0</td>\n",
       "      <td>0.0</td>\n",
       "    </tr>\n",
       "    <tr>\n",
       "      <th>2</th>\n",
       "      <td>Adobe, Microsoft and SAP announce the Open Dat...</td>\n",
       "      <td>18</td>\n",
       "      <td>99.00</td>\n",
       "      <td>71.09</td>\n",
       "      <td>58.07</td>\n",
       "      <td>25.77</td>\n",
       "      <td>18.0</td>\n",
       "      <td>44.44</td>\n",
       "      <td>66.67</td>\n",
       "      <td>27.78</td>\n",
       "      <td>...</td>\n",
       "      <td>5.56</td>\n",
       "      <td>0.0</td>\n",
       "      <td>0.0</td>\n",
       "      <td>0.0</td>\n",
       "      <td>0.0</td>\n",
       "      <td>5.56</td>\n",
       "      <td>0.0</td>\n",
       "      <td>0.0</td>\n",
       "      <td>0.0</td>\n",
       "      <td>0.0</td>\n",
       "    </tr>\n",
       "    <tr>\n",
       "      <th>3</th>\n",
       "      <td>Microsoft fortifies security and brings AI to ...</td>\n",
       "      <td>13</td>\n",
       "      <td>99.00</td>\n",
       "      <td>77.92</td>\n",
       "      <td>17.46</td>\n",
       "      <td>99.00</td>\n",
       "      <td>13.0</td>\n",
       "      <td>30.77</td>\n",
       "      <td>61.54</td>\n",
       "      <td>30.77</td>\n",
       "      <td>...</td>\n",
       "      <td>0.00</td>\n",
       "      <td>0.0</td>\n",
       "      <td>0.0</td>\n",
       "      <td>0.0</td>\n",
       "      <td>0.0</td>\n",
       "      <td>7.69</td>\n",
       "      <td>0.0</td>\n",
       "      <td>0.0</td>\n",
       "      <td>0.0</td>\n",
       "      <td>0.0</td>\n",
       "    </tr>\n",
       "    <tr>\n",
       "      <th>4</th>\n",
       "      <td>Shell expands strategic collaboration with Mic...</td>\n",
       "      <td>13</td>\n",
       "      <td>97.77</td>\n",
       "      <td>77.92</td>\n",
       "      <td>17.46</td>\n",
       "      <td>25.77</td>\n",
       "      <td>13.0</td>\n",
       "      <td>61.54</td>\n",
       "      <td>69.23</td>\n",
       "      <td>23.08</td>\n",
       "      <td>...</td>\n",
       "      <td>0.00</td>\n",
       "      <td>0.0</td>\n",
       "      <td>0.0</td>\n",
       "      <td>0.0</td>\n",
       "      <td>0.0</td>\n",
       "      <td>7.69</td>\n",
       "      <td>0.0</td>\n",
       "      <td>0.0</td>\n",
       "      <td>0.0</td>\n",
       "      <td>0.0</td>\n",
       "    </tr>\n",
       "  </tbody>\n",
       "</table>\n",
       "<p>5 rows × 94 columns</p>\n",
       "</div>"
      ],
      "text/plain": [
       "                                            og:title  WC  Analytic  Clout  \\\n",
       "0  Grab forges strategic cloud partnership with M...  19     99.00  85.38   \n",
       "1  Redline Communications and Microsoft announce ...  16     99.00  96.95   \n",
       "2  Adobe, Microsoft and SAP announce the Open Dat...  18     99.00  71.09   \n",
       "3  Microsoft fortifies security and brings AI to ...  13     99.00  77.92   \n",
       "4  Shell expands strategic collaboration with Mic...  13     97.77  77.92   \n",
       "\n",
       "   Authentic   Tone   WPS  Sixltr    Dic  function  ...  Comma  Colon  SemiC  \\\n",
       "0      19.27  25.77  19.0   47.37  68.42     26.32  ...   0.00    0.0    0.0   \n",
       "1      35.37   1.00  16.0   43.75  81.25     25.00  ...   0.00    0.0    0.0   \n",
       "2      58.07  25.77  18.0   44.44  66.67     27.78  ...   5.56    0.0    0.0   \n",
       "3      17.46  99.00  13.0   30.77  61.54     30.77  ...   0.00    0.0    0.0   \n",
       "4      17.46  25.77  13.0   61.54  69.23     23.08  ...   0.00    0.0    0.0   \n",
       "\n",
       "   QMark  Exclam  Dash  Quote  Apostro  Parenth  OtherP  \n",
       "0    0.0     0.0  5.26    0.0      0.0      0.0     0.0  \n",
       "1    0.0     0.0  6.25    0.0      0.0      0.0     0.0  \n",
       "2    0.0     0.0  5.56    0.0      0.0      0.0     0.0  \n",
       "3    0.0     0.0  7.69    0.0      0.0      0.0     0.0  \n",
       "4    0.0     0.0  7.69    0.0      0.0      0.0     0.0  \n",
       "\n",
       "[5 rows x 94 columns]"
      ]
     },
     "execution_count": 24,
     "metadata": {},
     "output_type": "execute_result"
    }
   ],
   "source": [
    "# Drop the columns we already have.\n",
    "_DROP_LIWC = [f'Source ({i})' for i in 'ABCDE']\n",
    "msft_liwc = msft_liwc.drop(_DROP_LIWC, axis=1)\n",
    "msft_liwc = msft_liwc.rename(columns={'Source (F)': 'og:title'})\n",
    "msft_liwc.head()"
   ]
  },
  {
   "cell_type": "code",
   "execution_count": 25,
   "metadata": {},
   "outputs": [
    {
     "data": {
      "text/html": [
       "<div>\n",
       "<style scoped>\n",
       "    .dataframe tbody tr th:only-of-type {\n",
       "        vertical-align: middle;\n",
       "    }\n",
       "\n",
       "    .dataframe tbody tr th {\n",
       "        vertical-align: top;\n",
       "    }\n",
       "\n",
       "    .dataframe thead th {\n",
       "        text-align: right;\n",
       "    }\n",
       "</style>\n",
       "<table border=\"1\" class=\"dataframe\">\n",
       "  <thead>\n",
       "    <tr style=\"text-align: right;\">\n",
       "      <th></th>\n",
       "      <th>article:modified_time</th>\n",
       "      <th>article:published_time</th>\n",
       "      <th>article:section</th>\n",
       "      <th>body</th>\n",
       "      <th>h3</th>\n",
       "      <th>og:description</th>\n",
       "      <th>og:title</th>\n",
       "      <th>og:updated_time</th>\n",
       "      <th>og:url</th>\n",
       "      <th>WC</th>\n",
       "      <th>...</th>\n",
       "      <th>Comma</th>\n",
       "      <th>Colon</th>\n",
       "      <th>SemiC</th>\n",
       "      <th>QMark</th>\n",
       "      <th>Exclam</th>\n",
       "      <th>Dash</th>\n",
       "      <th>Quote</th>\n",
       "      <th>Apostro</th>\n",
       "      <th>Parenth</th>\n",
       "      <th>OtherP</th>\n",
       "    </tr>\n",
       "  </thead>\n",
       "  <tbody>\n",
       "    <tr>\n",
       "      <th>0</th>\n",
       "      <td>2018-10-08T23:39:05+00:00</td>\n",
       "      <td>2018-10-08T23:00:25+00:00</td>\n",
       "      <td>Press Releases</td>\n",
       "      <td>SINGAPORE and REDMOND, Wash. — Oct. 8, 2018 — ...</td>\n",
       "      <td>NaN</td>\n",
       "      <td>Grab will adopt Microsoft Azure as its preferr...</td>\n",
       "      <td>Grab forges strategic cloud partnership with M...</td>\n",
       "      <td>2018-10-08T23:39:05+00:00</td>\n",
       "      <td>https://news.microsoft.com/2018/10/08/grab-for...</td>\n",
       "      <td>19</td>\n",
       "      <td>...</td>\n",
       "      <td>0.00</td>\n",
       "      <td>0.0</td>\n",
       "      <td>0.0</td>\n",
       "      <td>0.0</td>\n",
       "      <td>0.0</td>\n",
       "      <td>5.26</td>\n",
       "      <td>0.0</td>\n",
       "      <td>0.0</td>\n",
       "      <td>0.0</td>\n",
       "      <td>0.0</td>\n",
       "    </tr>\n",
       "    <tr>\n",
       "      <th>1</th>\n",
       "      <td>2018-10-04T14:43:59+00:00</td>\n",
       "      <td>2018-10-04T13:00:35+00:00</td>\n",
       "      <td>Press Releases</td>\n",
       "      <td>REDMOND, Wash. — Oct. 4, 2018 — On Thursday, R...</td>\n",
       "      <td>The partnership will help make broadband more ...</td>\n",
       "      <td>The partnership will help make broadband more ...</td>\n",
       "      <td>Redline Communications and Microsoft announce ...</td>\n",
       "      <td>2018-10-04T14:43:59+00:00</td>\n",
       "      <td>https://news.microsoft.com/2018/10/04/redline-...</td>\n",
       "      <td>16</td>\n",
       "      <td>...</td>\n",
       "      <td>0.00</td>\n",
       "      <td>0.0</td>\n",
       "      <td>0.0</td>\n",
       "      <td>0.0</td>\n",
       "      <td>0.0</td>\n",
       "      <td>6.25</td>\n",
       "      <td>0.0</td>\n",
       "      <td>0.0</td>\n",
       "      <td>0.0</td>\n",
       "      <td>0.0</td>\n",
       "    </tr>\n",
       "    <tr>\n",
       "      <th>2</th>\n",
       "      <td>2018-09-24T16:11:34+00:00</td>\n",
       "      <td>2018-09-24T13:30:14+00:00</td>\n",
       "      <td>Press Releases</td>\n",
       "      <td>\\nShantanu Narayen, CEO, Adobe (left), Satya N...</td>\n",
       "      <td>Industry leaders team up to help customers con...</td>\n",
       "      <td>Industry leaders team up to help customers con...</td>\n",
       "      <td>Adobe, Microsoft and SAP announce the Open Dat...</td>\n",
       "      <td>2018-09-24T16:11:34+00:00</td>\n",
       "      <td>https://news.microsoft.com/2018/09/24/adobe-mi...</td>\n",
       "      <td>18</td>\n",
       "      <td>...</td>\n",
       "      <td>5.56</td>\n",
       "      <td>0.0</td>\n",
       "      <td>0.0</td>\n",
       "      <td>0.0</td>\n",
       "      <td>0.0</td>\n",
       "      <td>5.56</td>\n",
       "      <td>0.0</td>\n",
       "      <td>0.0</td>\n",
       "      <td>0.0</td>\n",
       "      <td>0.0</td>\n",
       "    </tr>\n",
       "    <tr>\n",
       "      <th>3</th>\n",
       "      <td>NaN</td>\n",
       "      <td>2018-09-24T13:01:27+00:00</td>\n",
       "      <td>Press Releases</td>\n",
       "      <td>ORLANDO, Fla. — Sept. 24, 2018 — Monday at Ign...</td>\n",
       "      <td>The company also demonstrated how AI, IoT and ...</td>\n",
       "      <td>The company also demonstrated how AI, IoT and ...</td>\n",
       "      <td>Microsoft fortifies security and brings AI to ...</td>\n",
       "      <td>NaN</td>\n",
       "      <td>https://news.microsoft.com/2018/09/24/microsof...</td>\n",
       "      <td>13</td>\n",
       "      <td>...</td>\n",
       "      <td>0.00</td>\n",
       "      <td>0.0</td>\n",
       "      <td>0.0</td>\n",
       "      <td>0.0</td>\n",
       "      <td>0.0</td>\n",
       "      <td>7.69</td>\n",
       "      <td>0.0</td>\n",
       "      <td>0.0</td>\n",
       "      <td>0.0</td>\n",
       "      <td>0.0</td>\n",
       "    </tr>\n",
       "    <tr>\n",
       "      <th>4</th>\n",
       "      <td>2018-09-20T15:19:45+00:00</td>\n",
       "      <td>2018-09-20T13:00:12+00:00</td>\n",
       "      <td>Press Releases</td>\n",
       "      <td>REDMOND, Wash., and HOUSTON — Sept. 20, 2018 —...</td>\n",
       "      <td>Shell appoints C3 IoT and Microsoft Azure as i...</td>\n",
       "      <td>Shell appoints C3 IoT and Microsoft Azure as i...</td>\n",
       "      <td>Shell expands strategic collaboration with Mic...</td>\n",
       "      <td>2018-09-20T15:19:45+00:00</td>\n",
       "      <td>https://news.microsoft.com/2018/09/20/shell-ex...</td>\n",
       "      <td>13</td>\n",
       "      <td>...</td>\n",
       "      <td>0.00</td>\n",
       "      <td>0.0</td>\n",
       "      <td>0.0</td>\n",
       "      <td>0.0</td>\n",
       "      <td>0.0</td>\n",
       "      <td>7.69</td>\n",
       "      <td>0.0</td>\n",
       "      <td>0.0</td>\n",
       "      <td>0.0</td>\n",
       "      <td>0.0</td>\n",
       "    </tr>\n",
       "  </tbody>\n",
       "</table>\n",
       "<p>5 rows × 102 columns</p>\n",
       "</div>"
      ],
      "text/plain": [
       "       article:modified_time     article:published_time article:section  \\\n",
       "0  2018-10-08T23:39:05+00:00  2018-10-08T23:00:25+00:00  Press Releases   \n",
       "1  2018-10-04T14:43:59+00:00  2018-10-04T13:00:35+00:00  Press Releases   \n",
       "2  2018-09-24T16:11:34+00:00  2018-09-24T13:30:14+00:00  Press Releases   \n",
       "3                        NaN  2018-09-24T13:01:27+00:00  Press Releases   \n",
       "4  2018-09-20T15:19:45+00:00  2018-09-20T13:00:12+00:00  Press Releases   \n",
       "\n",
       "                                                body  \\\n",
       "0  SINGAPORE and REDMOND, Wash. — Oct. 8, 2018 — ...   \n",
       "1  REDMOND, Wash. — Oct. 4, 2018 — On Thursday, R...   \n",
       "2  \\nShantanu Narayen, CEO, Adobe (left), Satya N...   \n",
       "3  ORLANDO, Fla. — Sept. 24, 2018 — Monday at Ign...   \n",
       "4  REDMOND, Wash., and HOUSTON — Sept. 20, 2018 —...   \n",
       "\n",
       "                                                  h3  \\\n",
       "0                                                NaN   \n",
       "1  The partnership will help make broadband more ...   \n",
       "2  Industry leaders team up to help customers con...   \n",
       "3  The company also demonstrated how AI, IoT and ...   \n",
       "4  Shell appoints C3 IoT and Microsoft Azure as i...   \n",
       "\n",
       "                                      og:description  \\\n",
       "0  Grab will adopt Microsoft Azure as its preferr...   \n",
       "1  The partnership will help make broadband more ...   \n",
       "2  Industry leaders team up to help customers con...   \n",
       "3  The company also demonstrated how AI, IoT and ...   \n",
       "4  Shell appoints C3 IoT and Microsoft Azure as i...   \n",
       "\n",
       "                                            og:title  \\\n",
       "0  Grab forges strategic cloud partnership with M...   \n",
       "1  Redline Communications and Microsoft announce ...   \n",
       "2  Adobe, Microsoft and SAP announce the Open Dat...   \n",
       "3  Microsoft fortifies security and brings AI to ...   \n",
       "4  Shell expands strategic collaboration with Mic...   \n",
       "\n",
       "             og:updated_time  \\\n",
       "0  2018-10-08T23:39:05+00:00   \n",
       "1  2018-10-04T14:43:59+00:00   \n",
       "2  2018-09-24T16:11:34+00:00   \n",
       "3                        NaN   \n",
       "4  2018-09-20T15:19:45+00:00   \n",
       "\n",
       "                                              og:url  WC  ...  Comma  Colon  \\\n",
       "0  https://news.microsoft.com/2018/10/08/grab-for...  19  ...   0.00    0.0   \n",
       "1  https://news.microsoft.com/2018/10/04/redline-...  16  ...   0.00    0.0   \n",
       "2  https://news.microsoft.com/2018/09/24/adobe-mi...  18  ...   5.56    0.0   \n",
       "3  https://news.microsoft.com/2018/09/24/microsof...  13  ...   0.00    0.0   \n",
       "4  https://news.microsoft.com/2018/09/20/shell-ex...  13  ...   0.00    0.0   \n",
       "\n",
       "   SemiC  QMark  Exclam  Dash  Quote  Apostro  Parenth  OtherP  \n",
       "0    0.0    0.0     0.0  5.26    0.0      0.0      0.0     0.0  \n",
       "1    0.0    0.0     0.0  6.25    0.0      0.0      0.0     0.0  \n",
       "2    0.0    0.0     0.0  5.56    0.0      0.0      0.0     0.0  \n",
       "3    0.0    0.0     0.0  7.69    0.0      0.0      0.0     0.0  \n",
       "4    0.0    0.0     0.0  7.69    0.0      0.0      0.0     0.0  \n",
       "\n",
       "[5 rows x 102 columns]"
      ]
     },
     "execution_count": 25,
     "metadata": {},
     "output_type": "execute_result"
    }
   ],
   "source": [
    "msft_prs = msft_prs.merge(msft_liwc, on='og:title')\n",
    "msft_prs = msft_prs.rename(columns={'body_x': 'body'})\n",
    "msft_prs.head()"
   ]
  },
  {
   "cell_type": "markdown",
   "metadata": {},
   "source": [
    "# TextBlob\n",
    "\n",
    "Before applying textblob to our press releases, let's look at some examples to get a sense of how it works."
   ]
  },
  {
   "cell_type": "code",
   "execution_count": 26,
   "metadata": {},
   "outputs": [
    {
     "data": {
      "text/plain": [
       "Sentiment(polarity=0.375, subjectivity=0.2)"
      ]
     },
     "execution_count": 26,
     "metadata": {},
     "output_type": "execute_result"
    }
   ],
   "source": [
    "string1 = 'Text analysis is a lot of fun!'\n",
    "TextBlob(string1).sentiment"
   ]
  },
  {
   "cell_type": "code",
   "execution_count": 27,
   "metadata": {},
   "outputs": [
    {
     "data": {
      "text/plain": [
       "Sentiment(polarity=-0.5, subjectivity=1.0)"
      ]
     },
     "execution_count": 27,
     "metadata": {},
     "output_type": "execute_result"
    }
   ],
   "source": [
    "string12 = 'It is scary.'\n",
    "TextBlob(string12).sentiment"
   ]
  },
  {
   "cell_type": "code",
   "execution_count": 28,
   "metadata": {},
   "outputs": [
    {
     "data": {
      "text/plain": [
       "Sentiment(polarity=0.25, subjectivity=1.0)"
      ]
     },
     "execution_count": 28,
     "metadata": {},
     "output_type": "execute_result"
    }
   ],
   "source": [
    "string2 = 'It is not scary.'\n",
    "TextBlob(string2).sentiment"
   ]
  },
  {
   "cell_type": "code",
   "execution_count": 29,
   "metadata": {},
   "outputs": [
    {
     "data": {
      "text/plain": [
       "Sentiment(polarity=-1.0, subjectivity=1.0)"
      ]
     },
     "execution_count": 29,
     "metadata": {},
     "output_type": "execute_result"
    }
   ],
   "source": [
    "string3 = 'Manual coding is the worst.'\n",
    "TextBlob(string3).sentiment"
   ]
  },
  {
   "cell_type": "code",
   "execution_count": 30,
   "metadata": {},
   "outputs": [
    {
     "data": {
      "text/plain": [
       "Sentiment(polarity=-0.2, subjectivity=0.95)"
      ]
     },
     "execution_count": 30,
     "metadata": {},
     "output_type": "execute_result"
    }
   ],
   "source": [
    "string4 = 'Manual coding is kind of the worst.'\n",
    "TextBlob(string4).sentiment"
   ]
  },
  {
   "cell_type": "code",
   "execution_count": 31,
   "metadata": {},
   "outputs": [
    {
     "data": {
      "text/plain": [
       "Sentiment(polarity=-0.155, subjectivity=0.82)"
      ]
     },
     "execution_count": 31,
     "metadata": {},
     "output_type": "execute_result"
    }
   ],
   "source": [
    "strings = ' '.join([string1, string2, string3, string4])\n",
    "TextBlob(strings).sentiment"
   ]
  },
  {
   "cell_type": "code",
   "execution_count": 32,
   "metadata": {},
   "outputs": [
    {
     "data": {
      "text/plain": [
       "0.95"
      ]
     },
     "execution_count": 32,
     "metadata": {},
     "output_type": "execute_result"
    }
   ],
   "source": [
    "TextBlob(string4).sentiment.subjectivity"
   ]
  },
  {
   "cell_type": "markdown",
   "metadata": {},
   "source": [
    "Like our comparison of web scraping and APIs, it's nice when we can work with data entirely inside of Python.\n",
    "\n",
    "We're going to start by defining some simple functions that we can use with pandas."
   ]
  },
  {
   "cell_type": "code",
   "execution_count": 33,
   "metadata": {},
   "outputs": [],
   "source": [
    "def tb_subjectivity(text):\n",
    "    return TextBlob(text).sentiment.subjectivity\n",
    "\n",
    "def tb_polarity(text):\n",
    "    return TextBlob(text).sentiment.polarity"
   ]
  },
  {
   "cell_type": "code",
   "execution_count": 34,
   "metadata": {},
   "outputs": [],
   "source": [
    "msft_prs['tb_subj'] = msft_prs['og:title'].apply(tb_subjectivity)\n",
    "msft_prs['tb_polar'] = msft_prs['og:title'].apply(tb_polarity)"
   ]
  },
  {
   "cell_type": "code",
   "execution_count": 35,
   "metadata": {},
   "outputs": [
    {
     "data": {
      "text/html": [
       "<div>\n",
       "<style scoped>\n",
       "    .dataframe tbody tr th:only-of-type {\n",
       "        vertical-align: middle;\n",
       "    }\n",
       "\n",
       "    .dataframe tbody tr th {\n",
       "        vertical-align: top;\n",
       "    }\n",
       "\n",
       "    .dataframe thead th {\n",
       "        text-align: right;\n",
       "    }\n",
       "</style>\n",
       "<table border=\"1\" class=\"dataframe\">\n",
       "  <thead>\n",
       "    <tr style=\"text-align: right;\">\n",
       "      <th></th>\n",
       "      <th>article:modified_time</th>\n",
       "      <th>article:published_time</th>\n",
       "      <th>article:section</th>\n",
       "      <th>body</th>\n",
       "      <th>h3</th>\n",
       "      <th>og:description</th>\n",
       "      <th>og:title</th>\n",
       "      <th>og:updated_time</th>\n",
       "      <th>og:url</th>\n",
       "      <th>WC</th>\n",
       "      <th>...</th>\n",
       "      <th>SemiC</th>\n",
       "      <th>QMark</th>\n",
       "      <th>Exclam</th>\n",
       "      <th>Dash</th>\n",
       "      <th>Quote</th>\n",
       "      <th>Apostro</th>\n",
       "      <th>Parenth</th>\n",
       "      <th>OtherP</th>\n",
       "      <th>tb_subj</th>\n",
       "      <th>tb_polar</th>\n",
       "    </tr>\n",
       "  </thead>\n",
       "  <tbody>\n",
       "    <tr>\n",
       "      <th>0</th>\n",
       "      <td>2018-10-08T23:39:05+00:00</td>\n",
       "      <td>2018-10-08T23:00:25+00:00</td>\n",
       "      <td>Press Releases</td>\n",
       "      <td>SINGAPORE and REDMOND, Wash. — Oct. 8, 2018 — ...</td>\n",
       "      <td>NaN</td>\n",
       "      <td>Grab will adopt Microsoft Azure as its preferr...</td>\n",
       "      <td>Grab forges strategic cloud partnership with M...</td>\n",
       "      <td>2018-10-08T23:39:05+00:00</td>\n",
       "      <td>https://news.microsoft.com/2018/10/08/grab-for...</td>\n",
       "      <td>19</td>\n",
       "      <td>...</td>\n",
       "      <td>0.0</td>\n",
       "      <td>0.0</td>\n",
       "      <td>0.0</td>\n",
       "      <td>5.26</td>\n",
       "      <td>0.0</td>\n",
       "      <td>0.0</td>\n",
       "      <td>0.0</td>\n",
       "      <td>0.0</td>\n",
       "      <td>0.000000</td>\n",
       "      <td>0.000000</td>\n",
       "    </tr>\n",
       "    <tr>\n",
       "      <th>1</th>\n",
       "      <td>2018-10-04T14:43:59+00:00</td>\n",
       "      <td>2018-10-04T13:00:35+00:00</td>\n",
       "      <td>Press Releases</td>\n",
       "      <td>REDMOND, Wash. — Oct. 4, 2018 — On Thursday, R...</td>\n",
       "      <td>The partnership will help make broadband more ...</td>\n",
       "      <td>The partnership will help make broadband more ...</td>\n",
       "      <td>Redline Communications and Microsoft announce ...</td>\n",
       "      <td>2018-10-04T14:43:59+00:00</td>\n",
       "      <td>https://news.microsoft.com/2018/10/04/redline-...</td>\n",
       "      <td>16</td>\n",
       "      <td>...</td>\n",
       "      <td>0.0</td>\n",
       "      <td>0.0</td>\n",
       "      <td>0.0</td>\n",
       "      <td>6.25</td>\n",
       "      <td>0.0</td>\n",
       "      <td>0.0</td>\n",
       "      <td>0.0</td>\n",
       "      <td>0.0</td>\n",
       "      <td>0.000000</td>\n",
       "      <td>0.000000</td>\n",
       "    </tr>\n",
       "    <tr>\n",
       "      <th>2</th>\n",
       "      <td>2018-09-24T16:11:34+00:00</td>\n",
       "      <td>2018-09-24T13:30:14+00:00</td>\n",
       "      <td>Press Releases</td>\n",
       "      <td>\\nShantanu Narayen, CEO, Adobe (left), Satya N...</td>\n",
       "      <td>Industry leaders team up to help customers con...</td>\n",
       "      <td>Industry leaders team up to help customers con...</td>\n",
       "      <td>Adobe, Microsoft and SAP announce the Open Dat...</td>\n",
       "      <td>2018-09-24T16:11:34+00:00</td>\n",
       "      <td>https://news.microsoft.com/2018/09/24/adobe-mi...</td>\n",
       "      <td>18</td>\n",
       "      <td>...</td>\n",
       "      <td>0.0</td>\n",
       "      <td>0.0</td>\n",
       "      <td>0.0</td>\n",
       "      <td>5.56</td>\n",
       "      <td>0.0</td>\n",
       "      <td>0.0</td>\n",
       "      <td>0.0</td>\n",
       "      <td>0.0</td>\n",
       "      <td>0.477273</td>\n",
       "      <td>0.068182</td>\n",
       "    </tr>\n",
       "    <tr>\n",
       "      <th>3</th>\n",
       "      <td>NaN</td>\n",
       "      <td>2018-09-24T13:01:27+00:00</td>\n",
       "      <td>Press Releases</td>\n",
       "      <td>ORLANDO, Fla. — Sept. 24, 2018 — Monday at Ign...</td>\n",
       "      <td>The company also demonstrated how AI, IoT and ...</td>\n",
       "      <td>The company also demonstrated how AI, IoT and ...</td>\n",
       "      <td>Microsoft fortifies security and brings AI to ...</td>\n",
       "      <td>NaN</td>\n",
       "      <td>https://news.microsoft.com/2018/09/24/microsof...</td>\n",
       "      <td>13</td>\n",
       "      <td>...</td>\n",
       "      <td>0.0</td>\n",
       "      <td>0.0</td>\n",
       "      <td>0.0</td>\n",
       "      <td>7.69</td>\n",
       "      <td>0.0</td>\n",
       "      <td>0.0</td>\n",
       "      <td>0.0</td>\n",
       "      <td>0.0</td>\n",
       "      <td>0.000000</td>\n",
       "      <td>0.000000</td>\n",
       "    </tr>\n",
       "    <tr>\n",
       "      <th>4</th>\n",
       "      <td>2018-09-20T15:19:45+00:00</td>\n",
       "      <td>2018-09-20T13:00:12+00:00</td>\n",
       "      <td>Press Releases</td>\n",
       "      <td>REDMOND, Wash., and HOUSTON — Sept. 20, 2018 —...</td>\n",
       "      <td>Shell appoints C3 IoT and Microsoft Azure as i...</td>\n",
       "      <td>Shell appoints C3 IoT and Microsoft Azure as i...</td>\n",
       "      <td>Shell expands strategic collaboration with Mic...</td>\n",
       "      <td>2018-09-20T15:19:45+00:00</td>\n",
       "      <td>https://news.microsoft.com/2018/09/20/shell-ex...</td>\n",
       "      <td>13</td>\n",
       "      <td>...</td>\n",
       "      <td>0.0</td>\n",
       "      <td>0.0</td>\n",
       "      <td>0.0</td>\n",
       "      <td>7.69</td>\n",
       "      <td>0.0</td>\n",
       "      <td>0.0</td>\n",
       "      <td>0.0</td>\n",
       "      <td>0.0</td>\n",
       "      <td>0.000000</td>\n",
       "      <td>0.000000</td>\n",
       "    </tr>\n",
       "  </tbody>\n",
       "</table>\n",
       "<p>5 rows × 104 columns</p>\n",
       "</div>"
      ],
      "text/plain": [
       "       article:modified_time     article:published_time article:section  \\\n",
       "0  2018-10-08T23:39:05+00:00  2018-10-08T23:00:25+00:00  Press Releases   \n",
       "1  2018-10-04T14:43:59+00:00  2018-10-04T13:00:35+00:00  Press Releases   \n",
       "2  2018-09-24T16:11:34+00:00  2018-09-24T13:30:14+00:00  Press Releases   \n",
       "3                        NaN  2018-09-24T13:01:27+00:00  Press Releases   \n",
       "4  2018-09-20T15:19:45+00:00  2018-09-20T13:00:12+00:00  Press Releases   \n",
       "\n",
       "                                                body  \\\n",
       "0  SINGAPORE and REDMOND, Wash. — Oct. 8, 2018 — ...   \n",
       "1  REDMOND, Wash. — Oct. 4, 2018 — On Thursday, R...   \n",
       "2  \\nShantanu Narayen, CEO, Adobe (left), Satya N...   \n",
       "3  ORLANDO, Fla. — Sept. 24, 2018 — Monday at Ign...   \n",
       "4  REDMOND, Wash., and HOUSTON — Sept. 20, 2018 —...   \n",
       "\n",
       "                                                  h3  \\\n",
       "0                                                NaN   \n",
       "1  The partnership will help make broadband more ...   \n",
       "2  Industry leaders team up to help customers con...   \n",
       "3  The company also demonstrated how AI, IoT and ...   \n",
       "4  Shell appoints C3 IoT and Microsoft Azure as i...   \n",
       "\n",
       "                                      og:description  \\\n",
       "0  Grab will adopt Microsoft Azure as its preferr...   \n",
       "1  The partnership will help make broadband more ...   \n",
       "2  Industry leaders team up to help customers con...   \n",
       "3  The company also demonstrated how AI, IoT and ...   \n",
       "4  Shell appoints C3 IoT and Microsoft Azure as i...   \n",
       "\n",
       "                                            og:title  \\\n",
       "0  Grab forges strategic cloud partnership with M...   \n",
       "1  Redline Communications and Microsoft announce ...   \n",
       "2  Adobe, Microsoft and SAP announce the Open Dat...   \n",
       "3  Microsoft fortifies security and brings AI to ...   \n",
       "4  Shell expands strategic collaboration with Mic...   \n",
       "\n",
       "             og:updated_time  \\\n",
       "0  2018-10-08T23:39:05+00:00   \n",
       "1  2018-10-04T14:43:59+00:00   \n",
       "2  2018-09-24T16:11:34+00:00   \n",
       "3                        NaN   \n",
       "4  2018-09-20T15:19:45+00:00   \n",
       "\n",
       "                                              og:url  WC  ...  SemiC  QMark  \\\n",
       "0  https://news.microsoft.com/2018/10/08/grab-for...  19  ...    0.0    0.0   \n",
       "1  https://news.microsoft.com/2018/10/04/redline-...  16  ...    0.0    0.0   \n",
       "2  https://news.microsoft.com/2018/09/24/adobe-mi...  18  ...    0.0    0.0   \n",
       "3  https://news.microsoft.com/2018/09/24/microsof...  13  ...    0.0    0.0   \n",
       "4  https://news.microsoft.com/2018/09/20/shell-ex...  13  ...    0.0    0.0   \n",
       "\n",
       "   Exclam  Dash  Quote  Apostro  Parenth  OtherP   tb_subj  tb_polar  \n",
       "0     0.0  5.26    0.0      0.0      0.0     0.0  0.000000  0.000000  \n",
       "1     0.0  6.25    0.0      0.0      0.0     0.0  0.000000  0.000000  \n",
       "2     0.0  5.56    0.0      0.0      0.0     0.0  0.477273  0.068182  \n",
       "3     0.0  7.69    0.0      0.0      0.0     0.0  0.000000  0.000000  \n",
       "4     0.0  7.69    0.0      0.0      0.0     0.0  0.000000  0.000000  \n",
       "\n",
       "[5 rows x 104 columns]"
      ]
     },
     "execution_count": 35,
     "metadata": {},
     "output_type": "execute_result"
    }
   ],
   "source": [
    "msft_prs.head()"
   ]
  },
  {
   "cell_type": "markdown",
   "metadata": {},
   "source": [
    "## New: Python 提供了一个叫作 Pickle 的标准模块，通过它你可以将任何纯 Python 对象存储到一个文件中，并在稍后将其取回。这叫作持久地（Persistently）存储对象。 持久性就是将文件存储到磁盘上。However, \"the pickle module is not secure. Only unpickle data you trust” （https://docs.python.org/3/library/pickle.html#module-pickle）"
   ]
  },
  {
   "cell_type": "code",
   "execution_count": 7,
   "metadata": {},
   "outputs": [
    {
     "name": "stdout",
     "output_type": "stream",
     "text": [
      "<class 'dict'>\n"
     ]
    },
    {
     "data": {
      "text/plain": [
       "{'team_name': 'Chicago Bulls',\n",
       " 'records': {'wins': 72, 'losses': 10},\n",
       " 'coach': 'Phil Jackson',\n",
       " 'assistant_coach': ['Jim Cleamons',\n",
       "  'John Paxson',\n",
       "  'Jimmy Rodgers',\n",
       "  'Tex Winter'],\n",
       " 'starting_lineups': {'PG': 'Ron Harper',\n",
       "  'SG': 'Michael Jordan',\n",
       "  'SF': 'Scottie Pippen',\n",
       "  'PF': 'Dennis Rodman',\n",
       "  'C': 'Luc Longley'}}"
      ]
     },
     "execution_count": 7,
     "metadata": {},
     "output_type": "execute_result"
    }
   ],
   "source": [
    "from json import load\n",
    "\n",
    "json_fp = 'chicago95.json'\n",
    "with open(json_fp) as f1:\n",
    "    chicago_dict = load(f1)\n",
    "print(type(chicago_dict))\n",
    "chicago_dict"
   ]
  },
  {
   "cell_type": "code",
   "execution_count": null,
   "metadata": {},
   "outputs": [],
   "source": [
    "team_name 对应一个字串 ’Chicago Bulls' \n",
    "records 对应一个巢状 JSON \n",
    "coach 对应一个字串 'Phil Jackson'\n",
    "assistant coach 对应一个阵列\n",
    "starting_lineups 对应一个 nested JSON"
   ]
  },
  {
   "cell_type": "code",
   "execution_count": 11,
   "metadata": {},
   "outputs": [
    {
     "name": "stdout",
     "output_type": "stream",
     "text": [
      "芝加哥公牛队在1995年的胜率是  0.88\n"
     ]
    }
   ],
   "source": [
    "winning_percent = chicago_dict['records']['wins']/(chicago_dict['records']['wins'] + chicago_dict['records']['losses'])\n",
    "print(\"芝加哥公牛队在1995年的胜率是 {: .2f}\".format(winning_percent))"
   ]
  },
  {
   "cell_type": "markdown",
   "metadata": {},
   "source": [
    "# Breakout Exercises\n",
    "\n",
    "Let's do two exercises to reinforce the concepts we learned above.\n",
    "\n",
    "\n",
    "1. TextBlob\n",
    "1. functions with `df.apply()`"
   ]
  },
  {
   "cell_type": "code",
   "execution_count": null,
   "metadata": {},
   "outputs": [],
   "source": []
  },
  {
   "cell_type": "markdown",
   "metadata": {},
   "source": [
    "## Exercise 1.01: TextBlob\n",
    "\n",
    "Above, we saw what the TextBlob subjectivity and polarity attributes looked like on some sample text.\n",
    "In your breakout groups, come up with a few strings to test, and then make minor changes and see how that changes the sentiment scoring.\n",
    "\n",
    "**Note:** Create cells as needed."
   ]
  },
  {
   "cell_type": "code",
   "execution_count": 36,
   "metadata": {},
   "outputs": [
    {
     "data": {
      "text/plain": [
       "Sentiment(polarity=0.625, subjectivity=1.0)"
      ]
     },
     "execution_count": 36,
     "metadata": {},
     "output_type": "execute_result"
    }
   ],
   "source": [
    "# 1 code\n",
    "string101 = 'I am satisfied!'\n",
    "TextBlob(string101).sentiment"
   ]
  },
  {
   "cell_type": "code",
   "execution_count": 37,
   "metadata": {},
   "outputs": [
    {
     "data": {
      "text/plain": [
       "Sentiment(polarity=-0.3125, subjectivity=1.0)"
      ]
     },
     "execution_count": 37,
     "metadata": {},
     "output_type": "execute_result"
    }
   ],
   "source": [
    "string102 = 'I am not satisfied!'\n",
    "TextBlob(string102).sentiment"
   ]
  },
  {
   "cell_type": "code",
   "execution_count": 38,
   "metadata": {},
   "outputs": [
    {
     "data": {
      "text/plain": [
       "Sentiment(polarity=0.0, subjectivity=0.0)"
      ]
     },
     "execution_count": 38,
     "metadata": {},
     "output_type": "execute_result"
    }
   ],
   "source": [
    "string103 = 'I am NOT satisifed!'\n",
    "TextBlob(string103).sentiment"
   ]
  },
  {
   "cell_type": "markdown",
   "metadata": {},
   "source": [
    "## Exercise 1.02: loops\n",
    "\n",
    "When working with pandas dataframes, we don't use loops to loop through each item to process it (for technical reasons beyond the scope of the course, but ask about it if time permits).\n",
    "However, there is a conceptually similar approach, where we write a simple function to handle one case, and we use the `apply()` method to apply it to every item in a column.\n",
    "\n",
    "1. Create a new funtion, named `tb_polarity_absolute()` that returns the absolute value of the TextBlob polarity score.\n",
    "1. Create a new column, named `'tb_pol_abs` in the `msft_prs` dataframe that applies the new function you wrote to the `'og:title'` column.\n",
    "1. View the first 10 rows of the dataframe to compare the `'tb_pol'` column to verify that you get the result you're expecting."
   ]
  },
  {
   "cell_type": "code",
   "execution_count": 39,
   "metadata": {},
   "outputs": [
    {
     "data": {
      "text/plain": [
       "Sentiment(polarity=-0.3125, subjectivity=1.0)"
      ]
     },
     "execution_count": 39,
     "metadata": {},
     "output_type": "execute_result"
    }
   ],
   "source": [
    "# 2-1 code\n",
    "\n",
    "from textblob import TextBlob\n",
    "\n",
    "string102 = 'I am not satisfied!'\n",
    "TextBlob(string102).sentiment\n",
    "    "
   ]
  },
  {
   "cell_type": "code",
   "execution_count": 40,
   "metadata": {},
   "outputs": [
    {
     "data": {
      "text/plain": [
       "Sentiment(polarity=-0.175, subjectivity=0.65)"
      ]
     },
     "execution_count": 40,
     "metadata": {},
     "output_type": "execute_result"
    }
   ],
   "source": [
    "TextBlob('This is not cool').sentiment"
   ]
  },
  {
   "cell_type": "code",
   "execution_count": 41,
   "metadata": {},
   "outputs": [],
   "source": [
    "# 2-2 code\n",
    "def tb_polarity_absolute(text):\n",
    "     return abs(TextBlob(text).sentiment.polarity)"
   ]
  },
  {
   "cell_type": "code",
   "execution_count": 42,
   "metadata": {},
   "outputs": [],
   "source": [
    "# 2-3 code\n",
    "msft_prs['tb_pol_abs'] = msft_prs['og:title'].apply(tb_polarity_absolute)"
   ]
  },
  {
   "cell_type": "code",
   "execution_count": 43,
   "metadata": {},
   "outputs": [
    {
     "data": {
      "text/html": [
       "<div>\n",
       "<style scoped>\n",
       "    .dataframe tbody tr th:only-of-type {\n",
       "        vertical-align: middle;\n",
       "    }\n",
       "\n",
       "    .dataframe tbody tr th {\n",
       "        vertical-align: top;\n",
       "    }\n",
       "\n",
       "    .dataframe thead th {\n",
       "        text-align: right;\n",
       "    }\n",
       "</style>\n",
       "<table border=\"1\" class=\"dataframe\">\n",
       "  <thead>\n",
       "    <tr style=\"text-align: right;\">\n",
       "      <th></th>\n",
       "      <th>article:modified_time</th>\n",
       "      <th>article:published_time</th>\n",
       "      <th>article:section</th>\n",
       "      <th>body</th>\n",
       "      <th>h3</th>\n",
       "      <th>og:description</th>\n",
       "      <th>og:title</th>\n",
       "      <th>og:updated_time</th>\n",
       "      <th>og:url</th>\n",
       "      <th>WC</th>\n",
       "      <th>...</th>\n",
       "      <th>QMark</th>\n",
       "      <th>Exclam</th>\n",
       "      <th>Dash</th>\n",
       "      <th>Quote</th>\n",
       "      <th>Apostro</th>\n",
       "      <th>Parenth</th>\n",
       "      <th>OtherP</th>\n",
       "      <th>tb_subj</th>\n",
       "      <th>tb_polar</th>\n",
       "      <th>tb_pol_abs</th>\n",
       "    </tr>\n",
       "  </thead>\n",
       "  <tbody>\n",
       "    <tr>\n",
       "      <th>0</th>\n",
       "      <td>2018-10-08T23:39:05+00:00</td>\n",
       "      <td>2018-10-08T23:00:25+00:00</td>\n",
       "      <td>Press Releases</td>\n",
       "      <td>SINGAPORE and REDMOND, Wash. — Oct. 8, 2018 — ...</td>\n",
       "      <td>NaN</td>\n",
       "      <td>Grab will adopt Microsoft Azure as its preferr...</td>\n",
       "      <td>Grab forges strategic cloud partnership with M...</td>\n",
       "      <td>2018-10-08T23:39:05+00:00</td>\n",
       "      <td>https://news.microsoft.com/2018/10/08/grab-for...</td>\n",
       "      <td>19</td>\n",
       "      <td>...</td>\n",
       "      <td>0.0</td>\n",
       "      <td>0.0</td>\n",
       "      <td>5.26</td>\n",
       "      <td>0.0</td>\n",
       "      <td>0.0</td>\n",
       "      <td>0.0</td>\n",
       "      <td>0.0</td>\n",
       "      <td>0.000000</td>\n",
       "      <td>0.000000</td>\n",
       "      <td>0.000000</td>\n",
       "    </tr>\n",
       "    <tr>\n",
       "      <th>1</th>\n",
       "      <td>2018-10-04T14:43:59+00:00</td>\n",
       "      <td>2018-10-04T13:00:35+00:00</td>\n",
       "      <td>Press Releases</td>\n",
       "      <td>REDMOND, Wash. — Oct. 4, 2018 — On Thursday, R...</td>\n",
       "      <td>The partnership will help make broadband more ...</td>\n",
       "      <td>The partnership will help make broadband more ...</td>\n",
       "      <td>Redline Communications and Microsoft announce ...</td>\n",
       "      <td>2018-10-04T14:43:59+00:00</td>\n",
       "      <td>https://news.microsoft.com/2018/10/04/redline-...</td>\n",
       "      <td>16</td>\n",
       "      <td>...</td>\n",
       "      <td>0.0</td>\n",
       "      <td>0.0</td>\n",
       "      <td>6.25</td>\n",
       "      <td>0.0</td>\n",
       "      <td>0.0</td>\n",
       "      <td>0.0</td>\n",
       "      <td>0.0</td>\n",
       "      <td>0.000000</td>\n",
       "      <td>0.000000</td>\n",
       "      <td>0.000000</td>\n",
       "    </tr>\n",
       "    <tr>\n",
       "      <th>2</th>\n",
       "      <td>2018-09-24T16:11:34+00:00</td>\n",
       "      <td>2018-09-24T13:30:14+00:00</td>\n",
       "      <td>Press Releases</td>\n",
       "      <td>\\nShantanu Narayen, CEO, Adobe (left), Satya N...</td>\n",
       "      <td>Industry leaders team up to help customers con...</td>\n",
       "      <td>Industry leaders team up to help customers con...</td>\n",
       "      <td>Adobe, Microsoft and SAP announce the Open Dat...</td>\n",
       "      <td>2018-09-24T16:11:34+00:00</td>\n",
       "      <td>https://news.microsoft.com/2018/09/24/adobe-mi...</td>\n",
       "      <td>18</td>\n",
       "      <td>...</td>\n",
       "      <td>0.0</td>\n",
       "      <td>0.0</td>\n",
       "      <td>5.56</td>\n",
       "      <td>0.0</td>\n",
       "      <td>0.0</td>\n",
       "      <td>0.0</td>\n",
       "      <td>0.0</td>\n",
       "      <td>0.477273</td>\n",
       "      <td>0.068182</td>\n",
       "      <td>0.068182</td>\n",
       "    </tr>\n",
       "    <tr>\n",
       "      <th>3</th>\n",
       "      <td>NaN</td>\n",
       "      <td>2018-09-24T13:01:27+00:00</td>\n",
       "      <td>Press Releases</td>\n",
       "      <td>ORLANDO, Fla. — Sept. 24, 2018 — Monday at Ign...</td>\n",
       "      <td>The company also demonstrated how AI, IoT and ...</td>\n",
       "      <td>The company also demonstrated how AI, IoT and ...</td>\n",
       "      <td>Microsoft fortifies security and brings AI to ...</td>\n",
       "      <td>NaN</td>\n",
       "      <td>https://news.microsoft.com/2018/09/24/microsof...</td>\n",
       "      <td>13</td>\n",
       "      <td>...</td>\n",
       "      <td>0.0</td>\n",
       "      <td>0.0</td>\n",
       "      <td>7.69</td>\n",
       "      <td>0.0</td>\n",
       "      <td>0.0</td>\n",
       "      <td>0.0</td>\n",
       "      <td>0.0</td>\n",
       "      <td>0.000000</td>\n",
       "      <td>0.000000</td>\n",
       "      <td>0.000000</td>\n",
       "    </tr>\n",
       "    <tr>\n",
       "      <th>4</th>\n",
       "      <td>2018-09-20T15:19:45+00:00</td>\n",
       "      <td>2018-09-20T13:00:12+00:00</td>\n",
       "      <td>Press Releases</td>\n",
       "      <td>REDMOND, Wash., and HOUSTON — Sept. 20, 2018 —...</td>\n",
       "      <td>Shell appoints C3 IoT and Microsoft Azure as i...</td>\n",
       "      <td>Shell appoints C3 IoT and Microsoft Azure as i...</td>\n",
       "      <td>Shell expands strategic collaboration with Mic...</td>\n",
       "      <td>2018-09-20T15:19:45+00:00</td>\n",
       "      <td>https://news.microsoft.com/2018/09/20/shell-ex...</td>\n",
       "      <td>13</td>\n",
       "      <td>...</td>\n",
       "      <td>0.0</td>\n",
       "      <td>0.0</td>\n",
       "      <td>7.69</td>\n",
       "      <td>0.0</td>\n",
       "      <td>0.0</td>\n",
       "      <td>0.0</td>\n",
       "      <td>0.0</td>\n",
       "      <td>0.000000</td>\n",
       "      <td>0.000000</td>\n",
       "      <td>0.000000</td>\n",
       "    </tr>\n",
       "    <tr>\n",
       "      <th>5</th>\n",
       "      <td>NaN</td>\n",
       "      <td>2018-09-18T22:35:54+00:00</td>\n",
       "      <td>Press Releases</td>\n",
       "      <td>REDMOND, Wash. — Sept. 18, 2018 — Microsoft Co...</td>\n",
       "      <td>Annual shareholders meeting set for Nov. 28, 2018</td>\n",
       "      <td>Annual shareholders meeting set for Nov. 28, 2...</td>\n",
       "      <td>Microsoft announces quarterly dividend increas...</td>\n",
       "      <td>NaN</td>\n",
       "      <td>https://news.microsoft.com/2018/09/18/microsof...</td>\n",
       "      <td>6</td>\n",
       "      <td>...</td>\n",
       "      <td>0.0</td>\n",
       "      <td>0.0</td>\n",
       "      <td>16.67</td>\n",
       "      <td>0.0</td>\n",
       "      <td>0.0</td>\n",
       "      <td>0.0</td>\n",
       "      <td>0.0</td>\n",
       "      <td>0.000000</td>\n",
       "      <td>0.000000</td>\n",
       "      <td>0.000000</td>\n",
       "    </tr>\n",
       "    <tr>\n",
       "      <th>6</th>\n",
       "      <td>NaN</td>\n",
       "      <td>2018-09-13T13:00:07+00:00</td>\n",
       "      <td>Press Releases</td>\n",
       "      <td>REDMOND, Wash. — Sept. 13, 2018 — On Thursday,...</td>\n",
       "      <td>The partnership will benefit hundreds of thous...</td>\n",
       "      <td>The partnership will benefit hundreds of thous...</td>\n",
       "      <td>Network Business Systems and Microsoft announc...</td>\n",
       "      <td>NaN</td>\n",
       "      <td>https://news.microsoft.com/2018/09/13/network-...</td>\n",
       "      <td>21</td>\n",
       "      <td>...</td>\n",
       "      <td>0.0</td>\n",
       "      <td>0.0</td>\n",
       "      <td>4.76</td>\n",
       "      <td>0.0</td>\n",
       "      <td>0.0</td>\n",
       "      <td>0.0</td>\n",
       "      <td>0.0</td>\n",
       "      <td>0.000000</td>\n",
       "      <td>0.000000</td>\n",
       "      <td>0.000000</td>\n",
       "    </tr>\n",
       "  </tbody>\n",
       "</table>\n",
       "<p>7 rows × 105 columns</p>\n",
       "</div>"
      ],
      "text/plain": [
       "       article:modified_time     article:published_time article:section  \\\n",
       "0  2018-10-08T23:39:05+00:00  2018-10-08T23:00:25+00:00  Press Releases   \n",
       "1  2018-10-04T14:43:59+00:00  2018-10-04T13:00:35+00:00  Press Releases   \n",
       "2  2018-09-24T16:11:34+00:00  2018-09-24T13:30:14+00:00  Press Releases   \n",
       "3                        NaN  2018-09-24T13:01:27+00:00  Press Releases   \n",
       "4  2018-09-20T15:19:45+00:00  2018-09-20T13:00:12+00:00  Press Releases   \n",
       "5                        NaN  2018-09-18T22:35:54+00:00  Press Releases   \n",
       "6                        NaN  2018-09-13T13:00:07+00:00  Press Releases   \n",
       "\n",
       "                                                body  \\\n",
       "0  SINGAPORE and REDMOND, Wash. — Oct. 8, 2018 — ...   \n",
       "1  REDMOND, Wash. — Oct. 4, 2018 — On Thursday, R...   \n",
       "2  \\nShantanu Narayen, CEO, Adobe (left), Satya N...   \n",
       "3  ORLANDO, Fla. — Sept. 24, 2018 — Monday at Ign...   \n",
       "4  REDMOND, Wash., and HOUSTON — Sept. 20, 2018 —...   \n",
       "5  REDMOND, Wash. — Sept. 18, 2018 — Microsoft Co...   \n",
       "6  REDMOND, Wash. — Sept. 13, 2018 — On Thursday,...   \n",
       "\n",
       "                                                  h3  \\\n",
       "0                                                NaN   \n",
       "1  The partnership will help make broadband more ...   \n",
       "2  Industry leaders team up to help customers con...   \n",
       "3  The company also demonstrated how AI, IoT and ...   \n",
       "4  Shell appoints C3 IoT and Microsoft Azure as i...   \n",
       "5  Annual shareholders meeting set for Nov. 28, 2018   \n",
       "6  The partnership will benefit hundreds of thous...   \n",
       "\n",
       "                                      og:description  \\\n",
       "0  Grab will adopt Microsoft Azure as its preferr...   \n",
       "1  The partnership will help make broadband more ...   \n",
       "2  Industry leaders team up to help customers con...   \n",
       "3  The company also demonstrated how AI, IoT and ...   \n",
       "4  Shell appoints C3 IoT and Microsoft Azure as i...   \n",
       "5  Annual shareholders meeting set for Nov. 28, 2...   \n",
       "6  The partnership will benefit hundreds of thous...   \n",
       "\n",
       "                                            og:title  \\\n",
       "0  Grab forges strategic cloud partnership with M...   \n",
       "1  Redline Communications and Microsoft announce ...   \n",
       "2  Adobe, Microsoft and SAP announce the Open Dat...   \n",
       "3  Microsoft fortifies security and brings AI to ...   \n",
       "4  Shell expands strategic collaboration with Mic...   \n",
       "5  Microsoft announces quarterly dividend increas...   \n",
       "6  Network Business Systems and Microsoft announc...   \n",
       "\n",
       "             og:updated_time  \\\n",
       "0  2018-10-08T23:39:05+00:00   \n",
       "1  2018-10-04T14:43:59+00:00   \n",
       "2  2018-09-24T16:11:34+00:00   \n",
       "3                        NaN   \n",
       "4  2018-09-20T15:19:45+00:00   \n",
       "5                        NaN   \n",
       "6                        NaN   \n",
       "\n",
       "                                              og:url  WC  ...  QMark  Exclam  \\\n",
       "0  https://news.microsoft.com/2018/10/08/grab-for...  19  ...    0.0     0.0   \n",
       "1  https://news.microsoft.com/2018/10/04/redline-...  16  ...    0.0     0.0   \n",
       "2  https://news.microsoft.com/2018/09/24/adobe-mi...  18  ...    0.0     0.0   \n",
       "3  https://news.microsoft.com/2018/09/24/microsof...  13  ...    0.0     0.0   \n",
       "4  https://news.microsoft.com/2018/09/20/shell-ex...  13  ...    0.0     0.0   \n",
       "5  https://news.microsoft.com/2018/09/18/microsof...   6  ...    0.0     0.0   \n",
       "6  https://news.microsoft.com/2018/09/13/network-...  21  ...    0.0     0.0   \n",
       "\n",
       "    Dash  Quote  Apostro  Parenth  OtherP   tb_subj  tb_polar  tb_pol_abs  \n",
       "0   5.26    0.0      0.0      0.0     0.0  0.000000  0.000000    0.000000  \n",
       "1   6.25    0.0      0.0      0.0     0.0  0.000000  0.000000    0.000000  \n",
       "2   5.56    0.0      0.0      0.0     0.0  0.477273  0.068182    0.068182  \n",
       "3   7.69    0.0      0.0      0.0     0.0  0.000000  0.000000    0.000000  \n",
       "4   7.69    0.0      0.0      0.0     0.0  0.000000  0.000000    0.000000  \n",
       "5  16.67    0.0      0.0      0.0     0.0  0.000000  0.000000    0.000000  \n",
       "6   4.76    0.0      0.0      0.0     0.0  0.000000  0.000000    0.000000  \n",
       "\n",
       "[7 rows x 105 columns]"
      ]
     },
     "execution_count": 43,
     "metadata": {},
     "output_type": "execute_result"
    }
   ],
   "source": [
    "msft_prs.head(10)"
   ]
  },
  {
   "cell_type": "markdown",
   "metadata": {},
   "source": [
    "## The lexicon that Textblob uses is the same one as pattern and is available in their source code on GitHub (https://github.com/sloria/Textblob/dev/textblob/en/en-sentiment.xml). \n",
    "\n",
    "\n",
    "## Specific adjectives have a polarity score (-1.0 to + 1.0) and a subjectivity score (+0.0 to +1.0, objective/subjective). The reliability score specifies if an adjective was hand-tagged (1.0) or inferred (0.7). Words are tagged per sense, e.g., ridiculous (pitiful) = negative, ridiculous (humorous) = positive. The Cornetto id (lexical"
   ]
  },
  {
   "cell_type": "code",
   "execution_count": 44,
   "metadata": {},
   "outputs": [],
   "source": [
    "# pwd"
   ]
  },
  {
   "cell_type": "code",
   "execution_count": 45,
   "metadata": {},
   "outputs": [],
   "source": [
    "#  %cd C:\\Users\\xiada\\Documents\\...\\"
   ]
  },
  {
   "cell_type": "markdown",
   "metadata": {},
   "source": [
    "# <span style=\"color:red\"> Happy learning & Happy living! </span>\n",
    "# <span style=\"color:red\"> Be an open-minded and enthusiastic life-long learner!! </span> \n",
    "## 共勉之！\n",
    "\n",
    "## ~ Max Hsu 2020    徐國宣 老师"
   ]
  }
 ],
 "metadata": {
  "kernelspec": {
   "display_name": "Python 3",
   "language": "python",
   "name": "python3"
  },
  "language_info": {
   "codemirror_mode": {
    "name": "ipython",
    "version": 3
   },
   "file_extension": ".py",
   "mimetype": "text/x-python",
   "name": "python",
   "nbconvert_exporter": "python",
   "pygments_lexer": "ipython3",
   "version": "3.7.7"
  }
 },
 "nbformat": 4,
 "nbformat_minor": 4
}
