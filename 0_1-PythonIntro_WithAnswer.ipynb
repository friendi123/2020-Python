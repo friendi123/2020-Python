{
 "cells": [
  {
   "cell_type": "markdown",
   "metadata": {},
   "source": [
    "# “Exploratory data analysis can never be the whole story, but nothing else can serve as the foundation stone.”\n",
    "## - John Tukey\n",
    "\n",
    "## Source 1: Some nice Python learning sources: https://www.geeksforgeeks.org/python-tutorial/?ref=leftbar-rightbar\n",
    "\n",
    "## Source 2: https://github.github.com/gfm/#tables-extension- (Github)\n",
    "\n",
    "## Source 3: Numpy & Pandas Intro https://morvanzhou.github.io/tutorials/data-manipulation/np-pd/\n",
    "\n",
    "## Source 4: Datacamp (the following link is more specific about Python-Excel connection) https://www.datacamp.com/community/tutorials/python-excel-tutorial\n",
    "\n",
    "## Source 5: Run the Python script online (with no need to install Anaconda or PyCharm in advance) https://www.tutorialspoint.com/execute_python_online.php (be aware of its outdated Python 2.7 version)\n",
    "\n",
    "## Source 6: Information about Python strings https://developers.google.com/edu/python/strings \n",
    "\n",
    "## Source 7: https://www.stat.washington.edu/~hoytak/blog/whypython.html\n",
    "\n",
    "### Python packages for statistics & data science\n",
    "numpy\n",
    "matplotlib \n",
    "scipy\n",
    "pandas\n",
    "statsmodels\n",
    "scikit-learn"
   ]
  },
  {
   "cell_type": "markdown",
   "metadata": {},
   "source": [
    "## <span style=\"color:red\">What you will learn:</span>\n",
    "\n",
    "## - How to install and run Python\n",
    "## - Numeric Data Types: Int and Float (check it out: https://www.w3schools.com/python/python_datatypes.asp)\n",
    "## - Python native Data Types: String and List\n",
    "## - Python built-in functions\n",
    "## - Practical use of Python\n",
    "## - How to create custom functions\n",
    "## - Quite a few examples (along with the assocaited Python scripts)\n",
    "\n",
    "## Markdown Syntax. A paragraph is consecutive lines of text with one or more blank lines between them. For a line break, add either a backslash \\ or two blank spaces at  Paragraphs. For a line break, add either a backslash \\ or two blank spaces at the end of the line."
   ]
  },
  {
   "cell_type": "markdown",
   "metadata": {},
   "source": [
    "<br>\n",
    "<br>\n",
    "\n",
    "## Introduction\n",
    "### What is Python?\n",
    "### Python is a general-purpose programming language. Like R, Python is a high-level, object-oriented language but Python is increasingly more popular (). Unlike R, it was not developed specifically for the practice of statistics. However, a number of useful packages have been developed in Python for mathematics, statistics, and data science.\n",
    "\n",
    "## Why use Python?\n",
    "### Having been developed in the computer science community, Python is used heavily for data science and machine learning (http://pypl.github.io/PYPL.html)\n",
    "\n",
    "### Some reasons you might use Python rather than R: You're interested in using a particular package in Python (e.g. pandas, scikit-learn) You want to integrate your code into a project (e.g. a website) that is already coded in Python Personal preference: you're more comfortable coding in Python (functionality, syntax) Your coworkers or collaborators are using Python\n",
    "\n",
    "## Anaconda\n",
    "### The Anaconda distribution of Python is an easy way to install Python along with the most useful packages. You can download it here: https://www.continuum.io/downloads\n",
    "\n",
    "## Python 2.7 vs 3.8\n",
    "### There are two widely supported versions of Python. Apart from some slight differences in syntax (ex: whether the print function requires parentheses) the practical differences are small usually not important. I'm using Python 3 and would recommend doing the same unless you have some prior reason for doing otherwise (working with older python code, coworkers using Python 2, etc.)\n",
    "\n",
    "### Note:\n",
    "## This presentation was prepared using Jupyter Notebook: http://jupyter.org"
   ]
  },
  {
   "cell_type": "markdown",
   "metadata": {},
   "source": [
    "## This code does nothing.\n",
    "\n",
    "## Pay attention to the difference between \"Code\" vs. \"Markdown\" "
   ]
  },
  {
   "cell_type": "code",
   "execution_count": 1,
   "metadata": {},
   "outputs": [],
   "source": [
    "# Try to tpye the pwd command below and see what happens? \n"
   ]
  },
  {
   "cell_type": "code",
   "execution_count": 2,
   "metadata": {},
   "outputs": [
    {
     "data": {
      "text/plain": [
       "30"
      ]
     },
     "execution_count": 2,
     "metadata": {},
     "output_type": "execute_result"
    }
   ],
   "source": [
    "5*6"
   ]
  },
  {
   "cell_type": "code",
   "execution_count": 3,
   "metadata": {},
   "outputs": [
    {
     "name": "stdout",
     "output_type": "stream",
     "text": [
      "Hello, Wisconsin!\n"
     ]
    }
   ],
   "source": [
    "print(\"Hello, Wisconsin!\")"
   ]
  },
  {
   "cell_type": "code",
   "execution_count": 4,
   "metadata": {},
   "outputs": [
    {
     "data": {
      "text/plain": [
       "5"
      ]
     },
     "execution_count": 4,
     "metadata": {},
     "output_type": "execute_result"
    }
   ],
   "source": [
    "# print(\"Hello, Wisconsin!\")\n",
    "2+3"
   ]
  },
  {
   "cell_type": "code",
   "execution_count": 5,
   "metadata": {},
   "outputs": [
    {
     "name": "stdout",
     "output_type": "stream",
     "text": [
      "Hello, Wisconsin!\n"
     ]
    }
   ],
   "source": [
    "5*6\n",
    "print(\"Hello, Wisconsin!\")"
   ]
  },
  {
   "cell_type": "code",
   "execution_count": 6,
   "metadata": {},
   "outputs": [
    {
     "name": "stdout",
     "output_type": "stream",
     "text": [
      "30\n",
      "Hello, Wisconsin!\n"
     ]
    }
   ],
   "source": [
    "print(5*6)\n",
    "print(\"Hello, Wisconsin!\")"
   ]
  },
  {
   "cell_type": "code",
   "execution_count": 7,
   "metadata": {},
   "outputs": [
    {
     "name": "stdout",
     "output_type": "stream",
     "text": [
      "abcabcabcxyz\n"
     ]
    }
   ],
   "source": [
    "print(3 * 'abc' + 'xyz') # Python String Concatenation"
   ]
  },
  {
   "cell_type": "markdown",
   "metadata": {},
   "source": [
    "Like R, comments in Python use the # character."
   ]
  },
  {
   "cell_type": "code",
   "execution_count": 8,
   "metadata": {},
   "outputs": [],
   "source": [
    "sales = 500"
   ]
  },
  {
   "cell_type": "code",
   "execution_count": 9,
   "metadata": {},
   "outputs": [
    {
     "name": "stdout",
     "output_type": "stream",
     "text": [
      "500\n"
     ]
    }
   ],
   "source": [
    "print(sales)"
   ]
  },
  {
   "cell_type": "code",
   "execution_count": 10,
   "metadata": {},
   "outputs": [
    {
     "name": "stdout",
     "output_type": "stream",
     "text": [
      "sales  12\n"
     ]
    }
   ],
   "source": [
    "print('sales' + \"  \" +  \"12\") "
   ]
  },
  {
   "cell_type": "code",
   "execution_count": 11,
   "metadata": {},
   "outputs": [
    {
     "name": "stdout",
     "output_type": "stream",
     "text": [
      "-2.5\n"
     ]
    }
   ],
   "source": [
    "x = 5\n",
    "y = -7.5\n",
    "\n",
    "sum = x + y\n",
    "print(sum)"
   ]
  },
  {
   "cell_type": "markdown",
   "metadata": {},
   "source": [
    "## - Python documentation\n",
    "https://docs.python.org/3/\n",
    "\n",
    "\n",
    "## Python Built-in Functions \n",
    "https://docs.python.org/3.8/library/functions.html"
   ]
  },
  {
   "cell_type": "code",
   "execution_count": 12,
   "metadata": {},
   "outputs": [
    {
     "name": "stdout",
     "output_type": "stream",
     "text": [
      "how much is your meal? 30\n",
      "30\n"
     ]
    }
   ],
   "source": [
    "check1 = input('how much is your meal? ')\n",
    "print(check1)\n",
    "# check1 = float()\n",
    "# print(check1, type(check1))"
   ]
  },
  {
   "cell_type": "code",
   "execution_count": 13,
   "metadata": {},
   "outputs": [
    {
     "name": "stdout",
     "output_type": "stream",
     "text": [
      "30 <class 'str'>\n"
     ]
    }
   ],
   "source": [
    "print(check1, type(check1))"
   ]
  },
  {
   "cell_type": "code",
   "execution_count": 14,
   "metadata": {},
   "outputs": [
    {
     "name": "stdout",
     "output_type": "stream",
     "text": [
      "30 <class 'int'>\n"
     ]
    }
   ],
   "source": [
    "check1 = int(check1)\n",
    "print(check1, type(check1))"
   ]
  },
  {
   "cell_type": "code",
   "execution_count": 15,
   "metadata": {},
   "outputs": [
    {
     "name": "stdout",
     "output_type": "stream",
     "text": [
      "how much is your meal? 40\n",
      "the total amount due =  49.2\n"
     ]
    }
   ],
   "source": [
    "check2 = input('how much is your meal? ')\n",
    "\n",
    "check2 =int(check2)\n",
    "tax_rate = 0.08\n",
    "tip_rate = 0.15\n",
    "total = check2*(1 + tax_rate + tip_rate)\n",
    "print('the total amount due = ', total)"
   ]
  },
  {
   "cell_type": "code",
   "execution_count": 16,
   "metadata": {},
   "outputs": [
    {
     "name": "stdout",
     "output_type": "stream",
     "text": [
      "Your total is $49.20\n",
      "Your check is $40.00; Your total is $49.200\n"
     ]
    }
   ],
   "source": [
    "##  “print” treats the % as a special character, and the “.2” tells your “print” to print only the first 2 digits.\n",
    "##  The format() method allows you format string in any way you want \n",
    "##  The format() method allows you to format selected parts of a string. We can add placeholders (curly brackets {}) \n",
    "## in the text, and run the values through the format() method. More details could be found in the W3Schools site. \n",
    "\n",
    "print(\"Your total is ${:.2f}\".format(total))\n",
    "\n",
    "print(\"Your check is ${:.2f}\".format(check2) + \"; \" + \"Your total is ${:.3f}\".format(total))"
   ]
  },
  {
   "cell_type": "markdown",
   "metadata": {},
   "source": [
    "## ASCII Encoding Reference\n",
    "### Your browser will encode input, according to the character-set used in your page.\n",
    "\n",
    "https://www.w3schools.com/tags/ref_urlencode.asp"
   ]
  },
  {
   "cell_type": "code",
   "execution_count": 17,
   "metadata": {},
   "outputs": [
    {
     "data": {
      "text/plain": [
       "'Floating point 345.12'"
      ]
     },
     "execution_count": 17,
     "metadata": {},
     "output_type": "execute_result"
    }
   ],
   "source": [
    "\"Floating point {0:.2f}\".format(345.123456)\n",
    "# Here we specify 2 digits of precision and f is used to represent floating point number.\n",
    "#  0 means it's the first argument passed to the format function."
   ]
  },
  {
   "cell_type": "code",
   "execution_count": 46,
   "metadata": {},
   "outputs": [
    {
     "name": "stdout",
     "output_type": "stream",
     "text": [
      "[1.00,2,3.00000]\n"
     ]
    }
   ],
   "source": [
    "print(\"[{0:.2f},{1},{2:.5f}]\".format(1, 2, 3))"
   ]
  },
  {
   "cell_type": "code",
   "execution_count": 18,
   "metadata": {},
   "outputs": [
    {
     "data": {
      "text/plain": [
       "'Example1:    345.12!!'"
      ]
     },
     "execution_count": 18,
     "metadata": {},
     "output_type": "execute_result"
    }
   ],
   "source": [
    "## When we intentially create a space to hold the number, we may use > for right alignment\n",
    "\n",
    "'Example1:{0:>10.2f}!!'.format(345.123456)"
   ]
  },
  {
   "cell_type": "code",
   "execution_count": 19,
   "metadata": {},
   "outputs": [
    {
     "data": {
      "text/plain": [
       "'Example2:345.12    !!'"
      ]
     },
     "execution_count": 19,
     "metadata": {},
     "output_type": "execute_result"
    }
   ],
   "source": [
    "'Example2:{0:<10.2f}!!'.format(345.123456)"
   ]
  },
  {
   "cell_type": "code",
   "execution_count": 20,
   "metadata": {},
   "outputs": [
    {
     "data": {
      "text/plain": [
       "'longer: 2.87654, shorter: 2.877.'"
      ]
     },
     "execution_count": 20,
     "metadata": {},
     "output_type": "execute_result"
    }
   ],
   "source": [
    "x = 2.876543\n",
    "y = 1.234567\n",
    "\n",
    "'longer: {0:.5f}, shorter: {0:.3f}.'.format(x)"
   ]
  },
  {
   "cell_type": "code",
   "execution_count": 21,
   "metadata": {},
   "outputs": [
    {
     "name": "stdout",
     "output_type": "stream",
     "text": [
      "Original Number:  1.234567\n",
      "Formatted Number: 1.235\n"
     ]
    }
   ],
   "source": [
    "print(\"Original Number: \", y)\n",
    "print(\"Formatted Number: \"+\"{:.3f}\".format(y));"
   ]
  },
  {
   "cell_type": "code",
   "execution_count": 22,
   "metadata": {},
   "outputs": [
    {
     "name": "stdout",
     "output_type": "stream",
     "text": [
      "Hello World!\n"
     ]
    }
   ],
   "source": [
    "# Python code for \"Hello World\" \n",
    "# nothing else to type...see how simple is the syntax. \n",
    "  \n",
    "print(\"Hello World!\")"
   ]
  },
  {
   "cell_type": "code",
   "execution_count": 47,
   "metadata": {},
   "outputs": [
    {
     "name": "stdout",
     "output_type": "stream",
     "text": [
      "6\n",
      "3\n"
     ]
    }
   ],
   "source": [
    "# Length of below string is 6 \n",
    "string = \"世界卫生组织\" # Yes, Python could handle non-English languages (like Chinese in this case)\n",
    "print(len(string)) \n",
    "  \n",
    "# Length of below string is 3 \n",
    "string = \"WHA\" \n",
    "print(len(string)) "
   ]
  },
  {
   "cell_type": "markdown",
   "metadata": {},
   "source": [
    "# This part reveals some commonly used Jupyter Notebook rules\n",
    "\n",
    "\n",
    "# Main title\n",
    "## Sub title\n",
    "### H3 title\n",
    "#### H4 title\n",
    "\n",
    "\n",
    "## Markdown links use parentheses immediately after the link text like [Link name](url).\n",
    "[CNN](www.cnn.com)\n",
    "\n",
    "\n",
    "## Create a table\n",
    "### Use :---: to center a column, :--- to align left.\n",
    "To left-align a column, put a colon to the left of two dashes :--.\n",
    "Three dashes --- can also be used.\n",
    "To right-align, put a colon to the right of two dashes --:.\n",
    "To center-align, surround a dash with two colons :-:.\n",
    "\n",
    "\n",
    "Id | Student Last Name     | Student First Name |  Address\n",
    "--|:---------:|:-----------:|:----------:\n",
    "1|Smith      | Jon      |   北京市新街口外大街168号8楼\n",
    "2|Trump   | Jessica  |  475 South Missippsi Ave, Madison, WI  55688\n",
    "\n",
    "\n",
    "Id | Student Last Name     | Student First Name |  Address\n",
    "--|:-:|:-:|:-:\n",
    "1|Smith      | Jon      |   北京市新街口外大街168号8楼\n",
    "2|Trump   | Jessica  |  475 South Missippsi Ave, Madison, WI  55688\n",
    "\n",
    "\n",
    "Id | Student Last Name     | Student First Name |  Address\n",
    "--|:---------|:-----------|:----------\n",
    "1|Smith      | Jon      |   北京市新街口外大街168号8楼\n",
    "2|Trump   | Jessica  |  475 South Missippsi Ave, Madison, WI  55688"
   ]
  },
  {
   "cell_type": "markdown",
   "metadata": {},
   "source": [
    "What does the following Python code mean? Or what can it do?\n",
    "Note that \\ just continues the current line on the next one  \n",
    "It is better and easier to debug to use nested with statements. "
   ]
  },
  {
   "cell_type": "markdown",
   "metadata": {},
   "source": [
    "# Python Variables\n",
    "https://www.w3schools.com/python/python_variables.asp"
   ]
  },
  {
   "cell_type": "markdown",
   "metadata": {},
   "source": [
    "## Variable names\n",
    "### We can include underscores and numbers in variable names, but not periods. The period is saved for methods on objects.\n",
    "\n",
    "### it's of no problem to use underscore or numbers in the variable name\n",
    "my_var = 0\n",
    "var0 = 0\n",
    "\n",
    "### the following would be a problem \n",
    "my.var = 0\n",
    "\n",
    "---------------------------------------------------------------------------\n",
    "NameError                                 Traceback (most recent call last)\n",
    "<ipython-input-3-34465469c6e3> in <module>()\n",
    "      1 # problem\n",
    "----> 2 my.var = 0\n",
    "\n",
    "NameError: name 'my' is not defined\n",
    "\n",
    "A brief note about methods\n",
    "Explanation: Python is looking for a variable called my that has method var.\n",
    "\n",
    "A method is a function that is saved as an attribute of an object and generally manipulates that object in some way."
   ]
  },
  {
   "cell_type": "markdown",
   "metadata": {},
   "source": [
    "# Python Operators\n",
    "\n",
    "https://www.w3schools.com/python/python_operators.asp"
   ]
  },
  {
   "cell_type": "markdown",
   "metadata": {},
   "source": [
    "# Python List\n",
    "\n",
    "https://www.w3schools.com/python/python_lists.asp"
   ]
  },
  {
   "cell_type": "markdown",
   "metadata": {},
   "source": [
    "# A (Very) Brief History of JSON: \n",
    "## \"Not so surprisingly, JavaScript Object Notation was inspired by a subset of the JavaScript programming language dealing with object literal syntax. They’ve got a nifty website that explains the whole thing. Don’t worry though: JSON has long since become language agnostic and exists as its own standard, so we can thankfully avoid JavaScript for the sake of this discussion.\"\n",
    "\n",
    "https://realpython.com/python-json/"
   ]
  },
  {
   "cell_type": "markdown",
   "metadata": {},
   "source": [
    "## Dealing with Rows and Columns in Pandas DataFrame\n",
    "https://www.geeksforgeeks.org/dealing-with-rows-and-columns-in-pandas-dataframe/"
   ]
  },
  {
   "cell_type": "code",
   "execution_count": 24,
   "metadata": {},
   "outputs": [
    {
     "data": {
      "text/plain": [
       "\"\\nwith open('/path/to/some/file/you/want/to/read') as file_1,      open('/path/to/some/file/being/written', 'w') as file_2:\\n         file_2.write(file_1.read())\\n\""
      ]
     },
     "execution_count": 24,
     "metadata": {},
     "output_type": "execute_result"
    }
   ],
   "source": [
    "# Please remove the quotation makrs and try to execute the script (warning: we will find an error message generated by Python) \n",
    "# It is possible to define multi-line strings using a triple-quote syntax:\n",
    "'''\n",
    "with open('/path/to/some/file/you/want/to/read') as file_1, \\\n",
    "     open('/path/to/some/file/being/written', 'w') as file_2:\n",
    "         file_2.write(file_1.read())\n",
    "'''      "
   ]
  },
  {
   "cell_type": "markdown",
   "metadata": {},
   "source": [
    "# Python string variables\n",
    "\n",
    "https://www.w3schools.com/python/python_strings.asp"
   ]
  },
  {
   "cell_type": "markdown",
   "metadata": {},
   "source": [
    "## Once we remove the triple-quote syntax from the script shown above, we will find error message once we run the kernel (yes, I intentionally would like to show you a Python error message). \n",
    "\n",
    "## Besides the line continuation with /, we can always ues multiple lines as soon as parenthesis are involved."
   ]
  },
  {
   "cell_type": "code",
   "execution_count": 25,
   "metadata": {},
   "outputs": [
    {
     "name": "stdout",
     "output_type": "stream",
     "text": [
      "5 2.75 2.6666666666666665\n"
     ]
    }
   ],
   "source": [
    "x = 5\n",
    "y = 2.75\n",
    "z = 8 / 3\n",
    "\n",
    "print(x,y,z)"
   ]
  },
  {
   "cell_type": "code",
   "execution_count": 26,
   "metadata": {},
   "outputs": [
    {
     "name": "stdout",
     "output_type": "stream",
     "text": [
      "the sum of a and b = 46\n"
     ]
    }
   ],
   "source": [
    "a = 12\n",
    "b = 34\n",
    "sum = a + b\n",
    "print(\"the sum of a and b = \" + str(sum))"
   ]
  },
  {
   "cell_type": "code",
   "execution_count": 27,
   "metadata": {},
   "outputs": [
    {
     "name": "stdout",
     "output_type": "stream",
     "text": [
      "6\n",
      "100\n"
     ]
    }
   ],
   "source": [
    "# Declaring multiple variables\n",
    "# A little trick: you can declare or set multiple variables at once.\n",
    "\n",
    "x, y = 6, 100\n",
    "\n",
    "print(x)\n",
    "print(y)"
   ]
  },
  {
   "cell_type": "code",
   "execution_count": 28,
   "metadata": {},
   "outputs": [],
   "source": [
    "def func(long_name_1, long_name_2, long_name_3, long_name_4):\n",
    "    pass"
   ]
  },
  {
   "cell_type": "markdown",
   "metadata": {},
   "source": [
    "into this:"
   ]
  },
  {
   "cell_type": "code",
   "execution_count": 29,
   "metadata": {},
   "outputs": [],
   "source": [
    "def func(very_long_name_1, \n",
    "         very_long_name_2, \n",
    "         very_long_name_3, \n",
    "         very_long_name_4):\n",
    "    pass"
   ]
  },
  {
   "cell_type": "code",
   "execution_count": 30,
   "metadata": {},
   "outputs": [
    {
     "name": "stdout",
     "output_type": "stream",
     "text": [
      "4\n",
      "taco bell\n",
      "['taco', 'bell']\n",
      "One, two, red, blue\n"
     ]
    }
   ],
   "source": [
    "# Strings Like R, strings can be defined using either single quotes '' or double quotes \"\".\n",
    "\n",
    "# len() returns the length of a string.\n",
    "\n",
    "# Concatenate strings using +.\n",
    "\n",
    "x = 'taco'\n",
    "print(len(x))\n",
    "\n",
    "y = 'bell'\n",
    "z = x + ' ' + y\n",
    "\n",
    "print(z)\n",
    "\n",
    "# Split a string using the split() method.\n",
    "z = z.split(' ')\n",
    "print(z)\n",
    "\n",
    "# We can also collapse a list of strings using join. (Note: join is a method of all strings.)\n",
    "\n",
    "x = ['One', 'two', 'red', 'blue']\n",
    "x1 = ', '.join(x)\n",
    "\n",
    "print(x1)\n",
    "\n",
    "# The objects in square brackets above are lists."
   ]
  },
  {
   "cell_type": "markdown",
   "metadata": {},
   "source": [
    "# Python Dictionaries\n",
    "https://www.w3schools.com/python/python_dictionaries.asp"
   ]
  },
  {
   "cell_type": "code",
   "execution_count": 31,
   "metadata": {},
   "outputs": [
    {
     "name": "stdout",
     "output_type": "stream",
     "text": [
      "[1, 'example1', [1, 2, 3], (4, 5, 6), {'a': 7, 'b': 8, 'c': 9}]\n",
      "(1, 'example2', [1, 2, 3], (4, 5, 6), {'a': 7, 'b': 8, 'c': 9})\n",
      "{0: 1, 1: 'taco', 2: [1, 2, 3], 3: (4, 5, 6), 4: {'a': 7, 'b': 8, 'c': 9}}\n"
     ]
    }
   ],
   "source": [
    "# Python has several different data types for combining multiple elements into a single object.\n",
    "\n",
    "# list\n",
    "x = [1,2,3]\n",
    "\n",
    "# tuple\n",
    "y = (4,5,6)\n",
    "\n",
    "# dictionary\n",
    "z = {'a':7, 'b':8, 'c':9}\n",
    "\n",
    "''' Why these different data structures?\n",
    "\n",
    "Lists are simple and relatively easy to work with.\n",
    "Tuples take up less memory than lists, but are immutable: once you've created one, you can't make any edits.\n",
    "Dictionaries allow for non-numeric indexing and are generally faster (faster searches and retrieval).\n",
    "len() returns the length of these objects. '''\n",
    "\n",
    "len(\"apple\")\n",
    "# Notably, these data structures can include any kind of object:\n",
    "\n",
    "mylist = [1,'example1',x,y,z]\n",
    "mytuple = (1,'example2',x,y,z)\n",
    "mydictionary = {0:1, 1:'taco', 2:x, 3:y, 4:z}\n",
    "\n",
    "print(mylist)\n",
    "print(mytuple)\n",
    "print(mydictionary)"
   ]
  },
  {
   "cell_type": "code",
   "execution_count": 32,
   "metadata": {},
   "outputs": [
    {
     "name": "stdout",
     "output_type": "stream",
     "text": [
      "k\n",
      "1 2 3\n",
      "3 2 1\n"
     ]
    }
   ],
   "source": [
    "# string\n",
    "s = \"marketing\"\n",
    "\n",
    "# print an individual element of each object\n",
    "print(s[3])\n",
    "\n",
    "# Unlike R, negative indexes do not remove an element from a list.\n",
    "# Instead negative indexes go the other direction, e.g. x[-1] is the last entry in x\n",
    "\n",
    "x = [1,2,3]\n",
    "\n",
    "print(x[0],x[1],x[2])\n",
    "print(x[-1],x[-2],x[-3])"
   ]
  },
  {
   "cell_type": "code",
   "execution_count": 33,
   "metadata": {},
   "outputs": [
    {
     "name": "stdout",
     "output_type": "stream",
     "text": [
      "['a', 'b', 'c']\n",
      "[7, 8, 9]\n",
      "[('a', 7), ('b', 8), ('c', 9)]\n"
     ]
    }
   ],
   "source": [
    "# A few useful methods of dictionaries:\n",
    "\n",
    "z = {'a':7, 'b':8, 'c':9}\n",
    "\n",
    "lk = list(z.keys())\n",
    "\n",
    "lv = list(z.values())\n",
    "\n",
    "li =list(z.items())\n",
    "\n",
    "print(lk)\n",
    "print(lv)\n",
    "print(li)\n",
    "# List and tuple elements (and substrings) can be accessed by index. Python starts indexes with 0, rather than 1."
   ]
  },
  {
   "cell_type": "code",
   "execution_count": 34,
   "metadata": {},
   "outputs": [
    {
     "name": "stdout",
     "output_type": "stream",
     "text": [
      "k\n",
      "1 2 3\n",
      "3 2 1\n"
     ]
    }
   ],
   "source": [
    "# string\n",
    "s = \"marketing\"\n",
    "\n",
    "# print an individual element of each object\n",
    "print(s[3])\n",
    "\n",
    "# Unlike R, negative indexes do not remove an element from a list.\n",
    "\n",
    "# Instead negative indexes go the other direction, e.g. s[-1] is the last entry in s.\n",
    "\n",
    "x = [1,2,3]\n",
    "\n",
    "print(x[0],x[1],x[2])\n",
    "print(x[-1],x[-2],x[-3])"
   ]
  },
  {
   "cell_type": "markdown",
   "metadata": {},
   "source": [
    "Slicing\n",
    "Subset a list or tuple (or string) using square brackets and a colon. \n",
    "To return the contents of multiple boxes, you have to give the indexes of the outside protection."
   ]
  },
  {
   "cell_type": "code",
   "execution_count": 35,
   "metadata": {},
   "outputs": [
    {
     "name": "stdout",
     "output_type": "stream",
     "text": [
      "indexes:  0   1   2    3\n",
      "elements: | 8 | 9 | 10 |\n",
      "[8, 9] [9, 10]\n",
      "[8, 9, 10] [8, 9, 10] [8, 9, 10]\n"
     ]
    }
   ],
   "source": [
    "# Commands in this \"cell\" are for your information only (don't worry if you could not yet comprehend them!)\n",
    "# Slicing: Subset a list or tuple (or string) using square brackets and a colon. \n",
    "# To return the contents of multiple boxes, you have to give the indexes of the outside walls.\n",
    "\n",
    "x = [8,9,10]\n",
    "print(\"indexes:  0   1   2    3\\nelements: | 8 | 9 | 10 |\")\n",
    "print(x[0:2], x[1:3])\n",
    "\n",
    "# [8, 9] [9, 10]\n",
    "# Note that you can leave out the numbers on either side of the colon to extend the slice as far as possible.\n",
    "\n",
    "print(x[0:3], x[-3:], x[:])\n",
    "# [8, 9, 10] [8, 9, 10] [8, 9, 10]"
   ]
  },
  {
   "cell_type": "code",
   "execution_count": 36,
   "metadata": {},
   "outputs": [
    {
     "name": "stdout",
     "output_type": "stream",
     "text": [
      "market\n",
      "[4, 8]\n"
     ]
    }
   ],
   "source": [
    "s = \"marketing\"\n",
    "\n",
    "print(s[0:6])\n",
    "# market\n",
    "\n",
    "\n",
    "x = [2,4,6,8]\n",
    "\n",
    "# take the subset corresponding to indexes 1 and 3\n",
    "x_sub = [x[i] for i in [1,3]]\n",
    "print(x_sub)\n",
    "# [4, 8]"
   ]
  },
  {
   "cell_type": "code",
   "execution_count": 37,
   "metadata": {},
   "outputs": [
    {
     "name": "stdout",
     "output_type": "stream",
     "text": [
      "The 1 time to execute the loop.\n",
      "The 2 time to execute the loop.\n",
      "The 3 time to execute the loop.\n",
      "The 4 time to execute the loop.\n",
      "The 5 time to execute the loop.\n",
      "The 6 time to execute the loop.\n",
      "The 7 time to execute the loop.\n",
      "The 8 time to execute the loop.\n",
      "The 9 time to execute the loop.\n",
      "The 10 time to execute the loop.\n",
      "1+2+...+10 = 55\n"
     ]
    }
   ],
   "source": [
    "sum = 0\n",
    "\n",
    "def show(n):\n",
    "    print(\"The \" + str(n) + \" time to execute the loop.\")\n",
    "    \n",
    "for i in range(1,11):\n",
    "    show(i)\n",
    "    sum += i\n",
    "print(\"1+2+...+10 = \" + str(sum))"
   ]
  },
  {
   "cell_type": "code",
   "execution_count": 38,
   "metadata": {},
   "outputs": [
    {
     "name": "stdout",
     "output_type": "stream",
     "text": [
      "[8, 2, 3]\n",
      "x:  [1, 2, 3]\n",
      "a:  [10, 2, 3]\n",
      "b:  [1, 20, 3]\n",
      "c:  [1, 2, 30]\n"
     ]
    }
   ],
   "source": [
    "# When we set a variable equal to another variable, Python saves space by pointing to \n",
    "# the same object in memory. It does not create a unique copy of the object.\n",
    "# If we edit the object, both variables will change.\n",
    "\n",
    "# problem\n",
    "x = [1,2,3]\n",
    "y = x\n",
    "y[0] = 8\n",
    "\n",
    "print(x)\n",
    "[8, 2, 3]\n",
    "\n",
    "\n",
    "# The best way of copying: slice it, use list(), or use the copy() method\n",
    "\n",
    "x = [1,2,3]\n",
    "\n",
    "# make a copy by slicing x\n",
    "a = x[:]\n",
    "\n",
    "# make a copy using list()\n",
    "b = list(x)\n",
    "\n",
    "# make a copy using the x.copy() method\n",
    "c = x.copy()\n",
    "\n",
    "# make changes to the copies\n",
    "a[0] = 10\n",
    "b[1] = 20\n",
    "c[2] = 30\n",
    "\n",
    "print('x: ', x)\n",
    "print('a: ', a)\n",
    "print('b: ', b)\n",
    "print('c: ', c)\n",
    "x:  [1, 2, 3]\n",
    "a:  [10, 2, 3]\n",
    "b:  [1, 20, 3]\n",
    "c:  [1, 2, 30]"
   ]
  },
  {
   "cell_type": "code",
   "execution_count": 39,
   "metadata": {},
   "outputs": [
    {
     "name": "stdout",
     "output_type": "stream",
     "text": [
      "x is between 0 and 10\n",
      "y is eight!\n"
     ]
    }
   ],
   "source": [
    "# Try the IF, ELIF, and ELSE operations. \n",
    "\n",
    "x=5\n",
    "if (x > 10):\n",
    "    print('x is greater than 10')\n",
    "elif (x < 0):\n",
    "    print('x is negative')\n",
    "else:\n",
    "    print('x is between 0 and 10')\n",
    "\n",
    "y = 8\n",
    "if y==8: print('y is eight!')\n",
    "\n",
    "# Note: booleans in Python are True and False. You can also use 0 and 1."
   ]
  },
  {
   "cell_type": "code",
   "execution_count": 49,
   "metadata": {},
   "outputs": [
    {
     "name": "stdout",
     "output_type": "stream",
     "text": [
      "apple\n",
      "banana\n",
      "cherry\n",
      "0\n",
      "1\n",
      "2\n"
     ]
    }
   ],
   "source": [
    "# Loops\n",
    "x = ['apple','banana','cherry']\n",
    "\n",
    "for fruit in x:\n",
    "    print(fruit)\n",
    "\n",
    "for i in range(3):\n",
    "    print(i)\n",
    "\n",
    "#for a,b in [(1,1),(2,4),(3,9)]:\n",
    "#    print(a,'squared equals', b)\n",
    "\n",
    "#i = 10\n",
    "#while (i < 13):\n",
    "#   print(i)\n",
    "#    i+=1"
   ]
  },
  {
   "cell_type": "code",
   "execution_count": 41,
   "metadata": {},
   "outputs": [
    {
     "name": "stdout",
     "output_type": "stream",
     "text": [
      "1 squared equals 1\n",
      "2 squared equals 4\n",
      "3 squared equals 9\n"
     ]
    }
   ],
   "source": [
    "for a,b in [(1,1),(2,4),(3,9)]:\n",
    "    print(a,'squared equals', a*a)"
   ]
  },
  {
   "cell_type": "markdown",
   "metadata": {},
   "source": [
    "#  <span style=\"color:red\">Appendix</span>\n",
    "\n",
    "## Breakout Exercises¶"
   ]
  },
  {
   "cell_type": "markdown",
   "metadata": {},
   "source": [
    "# Exercise 0_1.1\n",
    "\n",
    "### list = [\"apple\", \"banana\", \"cherry\"]\n",
    "\n",
    "### Please print the last item on the above list...   \n",
    "\n",
    "### Hint: the answer would be  cherry  (without the quotation marks)"
   ]
  },
  {
   "cell_type": "code",
   "execution_count": 55,
   "metadata": {},
   "outputs": [
    {
     "name": "stdout",
     "output_type": "stream",
     "text": [
      "cherry\n"
     ]
    }
   ],
   "source": [
    "list = [\"apple\", \"banana\", \"cherry\"]\n",
    "list[2]\n",
    "print(list[2])"
   ]
  },
  {
   "cell_type": "markdown",
   "metadata": {},
   "source": [
    "<br>\n",
    "\n",
    "# Exercise 0_1.2\n",
    "\n",
    "### Please multiply 10 with 5, and then calculate the logarithm of the result (with a base 10) and print it out.\n",
    "\n",
    "### Hint: the answer would be 1.6989700043360187 (or a number very close to it)"
   ]
  },
  {
   "cell_type": "code",
   "execution_count": 59,
   "metadata": {},
   "outputs": [
    {
     "name": "stdout",
     "output_type": "stream",
     "text": [
      "1.6989700043360187\n"
     ]
    }
   ],
   "source": [
    "x = 10*5\n",
    "import math\n",
    "y = math.log10(x)\n",
    "print(y)"
   ]
  },
  {
   "cell_type": "markdown",
   "metadata": {},
   "source": [
    "# Exercise 0_1.3\n",
    "\n",
    "### Split the string STR =' I love Python ' into a list and print,  merge the list=['life','is','short'] into a string and print\n",
    "## hint: Google search \"How to Convert Python List to String\""
   ]
  },
  {
   "cell_type": "code",
   "execution_count": 72,
   "metadata": {},
   "outputs": [
    {
     "name": "stdout",
     "output_type": "stream",
     "text": [
      "['I', 'love', 'Python']\n",
      "life is short\n"
     ]
    }
   ],
   "source": [
    "text = 'I love Python'\n",
    "x = str.split(text)\n",
    "print(x)\n",
    "y = ['life', 'is', 'short']\n",
    " \n",
    "FinalString = ' '.join(y)\n",
    "print(FinalString)"
   ]
  },
  {
   "cell_type": "markdown",
   "metadata": {},
   "source": [
    "## You should now be ready to learn data retrieval and data analysis via Python. Good luck! "
   ]
  }
 ],
 "metadata": {
  "kernelspec": {
   "display_name": "Python 3",
   "language": "python",
   "name": "python3"
  },
  "language_info": {
   "codemirror_mode": {
    "name": "ipython",
    "version": 3
   },
   "file_extension": ".py",
   "mimetype": "text/x-python",
   "name": "python",
   "nbconvert_exporter": "python",
   "pygments_lexer": "ipython3",
   "version": "3.7.8"
  }
 },
 "nbformat": 4,
 "nbformat_minor": 4
}
